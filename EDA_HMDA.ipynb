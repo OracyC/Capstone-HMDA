{
  "nbformat": 4,
  "nbformat_minor": 0,
  "metadata": {
    "kernelspec": {
      "display_name": "Python 3",
      "language": "python",
      "name": "python3"
    },
    "language_info": {
      "codemirror_mode": {
        "name": "ipython",
        "version": 3
      },
      "file_extension": ".py",
      "mimetype": "text/x-python",
      "name": "python",
      "nbconvert_exporter": "python",
      "pygments_lexer": "ipython3",
      "version": "3.7.3"
    },
    "colab": {
      "name": "EDA_HMDA.ipynb",
      "provenance": [],
      "collapsed_sections": [],
      "machine_shape": "hm",
      "include_colab_link": true
    }
  },
  "cells": [
    {
      "cell_type": "markdown",
      "metadata": {
        "id": "view-in-github",
        "colab_type": "text"
      },
      "source": [
        "<a href=\"https://colab.research.google.com/github/OracyC/Capstone-HMDA/blob/master/EDA_HMDA.ipynb\" target=\"_parent\"><img src=\"https://colab.research.google.com/assets/colab-badge.svg\" alt=\"Open In Colab\"/></a>"
      ]
    },
    {
      "cell_type": "markdown",
      "metadata": {
        "id": "xyUQZ1IEmU9l",
        "colab_type": "text"
      },
      "source": [
        "# Read files"
      ]
    },
    {
      "cell_type": "code",
      "metadata": {
        "id": "XL7e-rNaXc_0",
        "colab_type": "code",
        "outputId": "2f5bdfdb-f1f1-42b1-8195-70c3a5d41241",
        "colab": {
          "base_uri": "https://localhost:8080/",
          "height": 575
        }
      },
      "source": [
        "files = \"https://github.com/OracyC/Capstone-HMDA/raw/master/hmda.zip\" \n",
        "!rm -rf * && pip install git+https://github.com/data-8/Gofer-Grader && wget $files && unzip -o hmda.zip"
      ],
      "execution_count": 0,
      "outputs": [
        {
          "output_type": "stream",
          "text": [
            "Collecting git+https://github.com/data-8/Gofer-Grader\n",
            "  Cloning https://github.com/data-8/Gofer-Grader to /tmp/pip-req-build-z4dbgnhp\n",
            "  Running command git clone -q https://github.com/data-8/Gofer-Grader /tmp/pip-req-build-z4dbgnhp\n",
            "Requirement already satisfied (use --upgrade to upgrade): gofer-grader==1.0.9 from git+https://github.com/data-8/Gofer-Grader in /usr/local/lib/python3.6/dist-packages\n",
            "Requirement already satisfied: jinja2 in /usr/local/lib/python3.6/dist-packages (from gofer-grader==1.0.9) (2.11.1)\n",
            "Requirement already satisfied: pygments in /usr/local/lib/python3.6/dist-packages (from gofer-grader==1.0.9) (2.1.3)\n",
            "Requirement already satisfied: tornado in /usr/local/lib/python3.6/dist-packages (from gofer-grader==1.0.9) (4.5.3)\n",
            "Requirement already satisfied: MarkupSafe>=0.23 in /usr/local/lib/python3.6/dist-packages (from jinja2->gofer-grader==1.0.9) (1.1.1)\n",
            "Building wheels for collected packages: gofer-grader\n",
            "  Building wheel for gofer-grader (setup.py) ... \u001b[?25l\u001b[?25hdone\n",
            "  Created wheel for gofer-grader: filename=gofer_grader-1.0.9-cp36-none-any.whl size=10171 sha256=5bc910a219df4d856e731c30f455bc9cec0fbadfc72e2ff49d12d6065dbfee28\n",
            "  Stored in directory: /tmp/pip-ephem-wheel-cache-njtzg3y4/wheels/9e/62/24/8563ae039051d6ba979557d1766bfebbda5dd08f8572e3e35d\n",
            "Successfully built gofer-grader\n",
            "--2020-02-24 01:02:13--  https://github.com/OracyC/Capstone-HMDA/raw/master/hmda.zip\n",
            "Resolving github.com (github.com)... 140.82.114.3\n",
            "Connecting to github.com (github.com)|140.82.114.3|:443... connected.\n",
            "HTTP request sent, awaiting response... 302 Found\n",
            "Location: https://raw.githubusercontent.com/OracyC/Capstone-HMDA/master/hmda.zip [following]\n",
            "--2020-02-24 01:02:14--  https://raw.githubusercontent.com/OracyC/Capstone-HMDA/master/hmda.zip\n",
            "Resolving raw.githubusercontent.com (raw.githubusercontent.com)... 151.101.0.133, 151.101.64.133, 151.101.128.133, ...\n",
            "Connecting to raw.githubusercontent.com (raw.githubusercontent.com)|151.101.0.133|:443... connected.\n",
            "HTTP request sent, awaiting response... 200 OK\n",
            "Length: 27055534 (26M) [application/zip]\n",
            "Saving to: ‘hmda.zip’\n",
            "\n",
            "hmda.zip            100%[===================>]  25.80M   109MB/s    in 0.2s    \n",
            "\n",
            "2020-02-24 01:02:15 (109 MB/s) - ‘hmda.zip’ saved [27055534/27055534]\n",
            "\n",
            "Archive:  hmda.zip\n",
            "  inflating: year_2018_state_NY.csv  \n"
          ],
          "name": "stdout"
        }
      ]
    },
    {
      "cell_type": "code",
      "metadata": {
        "id": "wnoHetH8XQQw",
        "colab_type": "code",
        "colab": {}
      },
      "source": [
        "import pandas as pd\n",
        "import numpy as np\n",
        "import seaborn as sns\n",
        "import matplotlib.pyplot as plt"
      ],
      "execution_count": 0,
      "outputs": []
    },
    {
      "cell_type": "code",
      "metadata": {
        "id": "eWnZpnWBXQRC",
        "colab_type": "code",
        "outputId": "79a72d23-a3cc-4bb7-baea-939d3fb16dcc",
        "colab": {
          "base_uri": "https://localhost:8080/",
          "height": 409
        }
      },
      "source": [
        "hmda = pd.read_csv('year_2018_state_NY.csv')\n",
        "hmda.head()"
      ],
      "execution_count": 0,
      "outputs": [
        {
          "output_type": "stream",
          "text": [
            "/usr/local/lib/python3.6/dist-packages/IPython/core/interactiveshell.py:2718: DtypeWarning: Columns (22,23,24,26,27,28,29,30,31,32,33,38,43,44) have mixed types. Specify dtype option on import or set low_memory=False.\n",
            "  interactivity=interactivity, compiler=compiler, result=result)\n"
          ],
          "name": "stderr"
        },
        {
          "output_type": "execute_result",
          "data": {
            "text/html": [
              "<div>\n",
              "<style scoped>\n",
              "    .dataframe tbody tr th:only-of-type {\n",
              "        vertical-align: middle;\n",
              "    }\n",
              "\n",
              "    .dataframe tbody tr th {\n",
              "        vertical-align: top;\n",
              "    }\n",
              "\n",
              "    .dataframe thead th {\n",
              "        text-align: right;\n",
              "    }\n",
              "</style>\n",
              "<table border=\"1\" class=\"dataframe\">\n",
              "  <thead>\n",
              "    <tr style=\"text-align: right;\">\n",
              "      <th></th>\n",
              "      <th>activity_year</th>\n",
              "      <th>lei</th>\n",
              "      <th>derived_msa-md</th>\n",
              "      <th>state_code</th>\n",
              "      <th>county_code</th>\n",
              "      <th>census_tract</th>\n",
              "      <th>conforming_loan_limit</th>\n",
              "      <th>derived_loan_product_type</th>\n",
              "      <th>derived_dwelling_category</th>\n",
              "      <th>derived_ethnicity</th>\n",
              "      <th>derived_race</th>\n",
              "      <th>derived_sex</th>\n",
              "      <th>action_taken</th>\n",
              "      <th>purchaser_type</th>\n",
              "      <th>preapproval</th>\n",
              "      <th>loan_type</th>\n",
              "      <th>loan_purpose</th>\n",
              "      <th>lien_status</th>\n",
              "      <th>reverse_mortgage</th>\n",
              "      <th>open-end_line_of_credit</th>\n",
              "      <th>business_or_commercial_purpose</th>\n",
              "      <th>loan_amount</th>\n",
              "      <th>loan_to_value_ratio</th>\n",
              "      <th>interest_rate</th>\n",
              "      <th>rate_spread</th>\n",
              "      <th>hoepa_status</th>\n",
              "      <th>total_loan_costs</th>\n",
              "      <th>total_points_and_fees</th>\n",
              "      <th>origination_charges</th>\n",
              "      <th>discount_points</th>\n",
              "      <th>lender_credits</th>\n",
              "      <th>loan_term</th>\n",
              "      <th>prepayment_penalty_term</th>\n",
              "      <th>intro_rate_period</th>\n",
              "      <th>negative_amortization</th>\n",
              "      <th>interest_only_payment</th>\n",
              "      <th>balloon_payment</th>\n",
              "      <th>other_nonamortizing_features</th>\n",
              "      <th>property_value</th>\n",
              "      <th>construction_method</th>\n",
              "      <th>...</th>\n",
              "      <th>applicant_ethnicity_observed</th>\n",
              "      <th>co-applicant_ethnicity_observed</th>\n",
              "      <th>applicant_race-1</th>\n",
              "      <th>applicant_race-2</th>\n",
              "      <th>applicant_race-3</th>\n",
              "      <th>applicant_race-4</th>\n",
              "      <th>applicant_race-5</th>\n",
              "      <th>co-applicant_race-1</th>\n",
              "      <th>co-applicant_race-2</th>\n",
              "      <th>co-applicant_race-3</th>\n",
              "      <th>co-applicant_race-4</th>\n",
              "      <th>co-applicant_race-5</th>\n",
              "      <th>applicant_race_observed</th>\n",
              "      <th>co-applicant_race_observed</th>\n",
              "      <th>applicant_sex</th>\n",
              "      <th>co-applicant_sex</th>\n",
              "      <th>applicant_sex_observed</th>\n",
              "      <th>co-applicant_sex_observed</th>\n",
              "      <th>applicant_age</th>\n",
              "      <th>co-applicant_age</th>\n",
              "      <th>applicant_age_above_62</th>\n",
              "      <th>co-applicant_age_above_62</th>\n",
              "      <th>submission_of_application</th>\n",
              "      <th>initially_payable_to_institution</th>\n",
              "      <th>aus-1</th>\n",
              "      <th>aus-2</th>\n",
              "      <th>aus-3</th>\n",
              "      <th>aus-4</th>\n",
              "      <th>aus-5</th>\n",
              "      <th>denial_reason-1</th>\n",
              "      <th>denial_reason-2</th>\n",
              "      <th>denial_reason-3</th>\n",
              "      <th>denial_reason-4</th>\n",
              "      <th>tract_population</th>\n",
              "      <th>tract_minority_population_percent</th>\n",
              "      <th>ffiec_msa_md_median_family_income</th>\n",
              "      <th>tract_to_msa_income_percentage</th>\n",
              "      <th>tract_owner_occupied_units</th>\n",
              "      <th>tract_one_to_four_family_homes</th>\n",
              "      <th>tract_median_age_of_housing_units</th>\n",
              "    </tr>\n",
              "  </thead>\n",
              "  <tbody>\n",
              "    <tr>\n",
              "      <th>0</th>\n",
              "      <td>2018</td>\n",
              "      <td>TR24TWEY5RVRQV65HD49</td>\n",
              "      <td>35614</td>\n",
              "      <td>NY</td>\n",
              "      <td>36085.0</td>\n",
              "      <td>3.608502e+10</td>\n",
              "      <td>C</td>\n",
              "      <td>Conventional:Subordinate Lien</td>\n",
              "      <td>Single Family (1-4 Units):Site-Built</td>\n",
              "      <td>Ethnicity Not Available</td>\n",
              "      <td>Race Not Available</td>\n",
              "      <td>Sex Not Available</td>\n",
              "      <td>1</td>\n",
              "      <td>0</td>\n",
              "      <td>2</td>\n",
              "      <td>1</td>\n",
              "      <td>2</td>\n",
              "      <td>2</td>\n",
              "      <td>2</td>\n",
              "      <td>1</td>\n",
              "      <td>2</td>\n",
              "      <td>195000.0</td>\n",
              "      <td>76.07</td>\n",
              "      <td>5</td>\n",
              "      <td>0.61</td>\n",
              "      <td>2</td>\n",
              "      <td>NaN</td>\n",
              "      <td>NaN</td>\n",
              "      <td>NaN</td>\n",
              "      <td>NaN</td>\n",
              "      <td>NaN</td>\n",
              "      <td>360</td>\n",
              "      <td>NaN</td>\n",
              "      <td>1</td>\n",
              "      <td>2</td>\n",
              "      <td>1</td>\n",
              "      <td>2</td>\n",
              "      <td>2</td>\n",
              "      <td>805000</td>\n",
              "      <td>1</td>\n",
              "      <td>...</td>\n",
              "      <td>3</td>\n",
              "      <td>4</td>\n",
              "      <td>6.0</td>\n",
              "      <td>NaN</td>\n",
              "      <td>NaN</td>\n",
              "      <td>NaN</td>\n",
              "      <td>NaN</td>\n",
              "      <td>8.0</td>\n",
              "      <td>NaN</td>\n",
              "      <td>NaN</td>\n",
              "      <td>NaN</td>\n",
              "      <td>NaN</td>\n",
              "      <td>3</td>\n",
              "      <td>4</td>\n",
              "      <td>3</td>\n",
              "      <td>5</td>\n",
              "      <td>3</td>\n",
              "      <td>4</td>\n",
              "      <td>45-54</td>\n",
              "      <td>9999</td>\n",
              "      <td>No</td>\n",
              "      <td>NaN</td>\n",
              "      <td>1</td>\n",
              "      <td>1</td>\n",
              "      <td>6</td>\n",
              "      <td>NaN</td>\n",
              "      <td>NaN</td>\n",
              "      <td>NaN</td>\n",
              "      <td>NaN</td>\n",
              "      <td>10</td>\n",
              "      <td>NaN</td>\n",
              "      <td>NaN</td>\n",
              "      <td>NaN</td>\n",
              "      <td>7200</td>\n",
              "      <td>49.71</td>\n",
              "      <td>78000</td>\n",
              "      <td>124</td>\n",
              "      <td>1442</td>\n",
              "      <td>2378</td>\n",
              "      <td>46</td>\n",
              "    </tr>\n",
              "    <tr>\n",
              "      <th>1</th>\n",
              "      <td>2018</td>\n",
              "      <td>TR24TWEY5RVRQV65HD49</td>\n",
              "      <td>35614</td>\n",
              "      <td>NY</td>\n",
              "      <td>36085.0</td>\n",
              "      <td>3.608501e+10</td>\n",
              "      <td>C</td>\n",
              "      <td>Conventional:Subordinate Lien</td>\n",
              "      <td>Single Family (1-4 Units):Site-Built</td>\n",
              "      <td>Ethnicity Not Available</td>\n",
              "      <td>Race Not Available</td>\n",
              "      <td>Sex Not Available</td>\n",
              "      <td>1</td>\n",
              "      <td>0</td>\n",
              "      <td>2</td>\n",
              "      <td>1</td>\n",
              "      <td>4</td>\n",
              "      <td>2</td>\n",
              "      <td>2</td>\n",
              "      <td>1</td>\n",
              "      <td>2</td>\n",
              "      <td>75000.0</td>\n",
              "      <td>79.14</td>\n",
              "      <td>5.75</td>\n",
              "      <td>1.31</td>\n",
              "      <td>2</td>\n",
              "      <td>NaN</td>\n",
              "      <td>NaN</td>\n",
              "      <td>NaN</td>\n",
              "      <td>NaN</td>\n",
              "      <td>NaN</td>\n",
              "      <td>360</td>\n",
              "      <td>NaN</td>\n",
              "      <td>1</td>\n",
              "      <td>2</td>\n",
              "      <td>2</td>\n",
              "      <td>2</td>\n",
              "      <td>2</td>\n",
              "      <td>525000</td>\n",
              "      <td>1</td>\n",
              "      <td>...</td>\n",
              "      <td>3</td>\n",
              "      <td>3</td>\n",
              "      <td>6.0</td>\n",
              "      <td>NaN</td>\n",
              "      <td>NaN</td>\n",
              "      <td>NaN</td>\n",
              "      <td>NaN</td>\n",
              "      <td>6.0</td>\n",
              "      <td>NaN</td>\n",
              "      <td>NaN</td>\n",
              "      <td>NaN</td>\n",
              "      <td>NaN</td>\n",
              "      <td>3</td>\n",
              "      <td>3</td>\n",
              "      <td>3</td>\n",
              "      <td>3</td>\n",
              "      <td>3</td>\n",
              "      <td>3</td>\n",
              "      <td>35-44</td>\n",
              "      <td>35-44</td>\n",
              "      <td>No</td>\n",
              "      <td>No</td>\n",
              "      <td>1</td>\n",
              "      <td>1</td>\n",
              "      <td>6</td>\n",
              "      <td>NaN</td>\n",
              "      <td>NaN</td>\n",
              "      <td>NaN</td>\n",
              "      <td>NaN</td>\n",
              "      <td>10</td>\n",
              "      <td>NaN</td>\n",
              "      <td>NaN</td>\n",
              "      <td>NaN</td>\n",
              "      <td>4042</td>\n",
              "      <td>28.40</td>\n",
              "      <td>78000</td>\n",
              "      <td>102</td>\n",
              "      <td>1051</td>\n",
              "      <td>1617</td>\n",
              "      <td>45</td>\n",
              "    </tr>\n",
              "    <tr>\n",
              "      <th>2</th>\n",
              "      <td>2018</td>\n",
              "      <td>TR24TWEY5RVRQV65HD49</td>\n",
              "      <td>35614</td>\n",
              "      <td>NY</td>\n",
              "      <td>36061.0</td>\n",
              "      <td>3.606102e+10</td>\n",
              "      <td>NC</td>\n",
              "      <td>Conventional:First Lien</td>\n",
              "      <td>Single Family (1-4 Units):Site-Built</td>\n",
              "      <td>Ethnicity Not Available</td>\n",
              "      <td>Race Not Available</td>\n",
              "      <td>Sex Not Available</td>\n",
              "      <td>1</td>\n",
              "      <td>0</td>\n",
              "      <td>2</td>\n",
              "      <td>1</td>\n",
              "      <td>4</td>\n",
              "      <td>1</td>\n",
              "      <td>2</td>\n",
              "      <td>1</td>\n",
              "      <td>2</td>\n",
              "      <td>755000.0</td>\n",
              "      <td>32.61</td>\n",
              "      <td>4.5</td>\n",
              "      <td>0</td>\n",
              "      <td>2</td>\n",
              "      <td>NaN</td>\n",
              "      <td>NaN</td>\n",
              "      <td>NaN</td>\n",
              "      <td>NaN</td>\n",
              "      <td>NaN</td>\n",
              "      <td>360</td>\n",
              "      <td>NaN</td>\n",
              "      <td>1</td>\n",
              "      <td>2</td>\n",
              "      <td>2</td>\n",
              "      <td>2</td>\n",
              "      <td>2</td>\n",
              "      <td>2.305e+06</td>\n",
              "      <td>1</td>\n",
              "      <td>...</td>\n",
              "      <td>3</td>\n",
              "      <td>3</td>\n",
              "      <td>6.0</td>\n",
              "      <td>NaN</td>\n",
              "      <td>NaN</td>\n",
              "      <td>NaN</td>\n",
              "      <td>NaN</td>\n",
              "      <td>6.0</td>\n",
              "      <td>NaN</td>\n",
              "      <td>NaN</td>\n",
              "      <td>NaN</td>\n",
              "      <td>NaN</td>\n",
              "      <td>3</td>\n",
              "      <td>3</td>\n",
              "      <td>3</td>\n",
              "      <td>3</td>\n",
              "      <td>3</td>\n",
              "      <td>3</td>\n",
              "      <td>65-74</td>\n",
              "      <td>55-64</td>\n",
              "      <td>Yes</td>\n",
              "      <td>No</td>\n",
              "      <td>1</td>\n",
              "      <td>1</td>\n",
              "      <td>6</td>\n",
              "      <td>NaN</td>\n",
              "      <td>NaN</td>\n",
              "      <td>NaN</td>\n",
              "      <td>NaN</td>\n",
              "      <td>10</td>\n",
              "      <td>NaN</td>\n",
              "      <td>NaN</td>\n",
              "      <td>NaN</td>\n",
              "      <td>7962</td>\n",
              "      <td>93.82</td>\n",
              "      <td>78000</td>\n",
              "      <td>43</td>\n",
              "      <td>122</td>\n",
              "      <td>343</td>\n",
              "      <td>60</td>\n",
              "    </tr>\n",
              "    <tr>\n",
              "      <th>3</th>\n",
              "      <td>2018</td>\n",
              "      <td>TR24TWEY5RVRQV65HD49</td>\n",
              "      <td>35614</td>\n",
              "      <td>NY</td>\n",
              "      <td>36047.0</td>\n",
              "      <td>3.604712e+10</td>\n",
              "      <td>NC</td>\n",
              "      <td>Conventional:Subordinate Lien</td>\n",
              "      <td>Single Family (1-4 Units):Site-Built</td>\n",
              "      <td>Ethnicity Not Available</td>\n",
              "      <td>Race Not Available</td>\n",
              "      <td>Sex Not Available</td>\n",
              "      <td>1</td>\n",
              "      <td>0</td>\n",
              "      <td>2</td>\n",
              "      <td>1</td>\n",
              "      <td>2</td>\n",
              "      <td>2</td>\n",
              "      <td>2</td>\n",
              "      <td>1</td>\n",
              "      <td>2</td>\n",
              "      <td>545000.0</td>\n",
              "      <td>79.98</td>\n",
              "      <td>5</td>\n",
              "      <td>0.56</td>\n",
              "      <td>2</td>\n",
              "      <td>NaN</td>\n",
              "      <td>NaN</td>\n",
              "      <td>NaN</td>\n",
              "      <td>NaN</td>\n",
              "      <td>NaN</td>\n",
              "      <td>360</td>\n",
              "      <td>NaN</td>\n",
              "      <td>1</td>\n",
              "      <td>2</td>\n",
              "      <td>2</td>\n",
              "      <td>2</td>\n",
              "      <td>2</td>\n",
              "      <td>1.105e+06</td>\n",
              "      <td>1</td>\n",
              "      <td>...</td>\n",
              "      <td>3</td>\n",
              "      <td>4</td>\n",
              "      <td>6.0</td>\n",
              "      <td>NaN</td>\n",
              "      <td>NaN</td>\n",
              "      <td>NaN</td>\n",
              "      <td>NaN</td>\n",
              "      <td>8.0</td>\n",
              "      <td>NaN</td>\n",
              "      <td>NaN</td>\n",
              "      <td>NaN</td>\n",
              "      <td>NaN</td>\n",
              "      <td>3</td>\n",
              "      <td>4</td>\n",
              "      <td>3</td>\n",
              "      <td>5</td>\n",
              "      <td>3</td>\n",
              "      <td>4</td>\n",
              "      <td>35-44</td>\n",
              "      <td>9999</td>\n",
              "      <td>No</td>\n",
              "      <td>NaN</td>\n",
              "      <td>1</td>\n",
              "      <td>1</td>\n",
              "      <td>6</td>\n",
              "      <td>NaN</td>\n",
              "      <td>NaN</td>\n",
              "      <td>NaN</td>\n",
              "      <td>NaN</td>\n",
              "      <td>10</td>\n",
              "      <td>NaN</td>\n",
              "      <td>NaN</td>\n",
              "      <td>NaN</td>\n",
              "      <td>6522</td>\n",
              "      <td>16.36</td>\n",
              "      <td>78000</td>\n",
              "      <td>42</td>\n",
              "      <td>198</td>\n",
              "      <td>434</td>\n",
              "      <td>36</td>\n",
              "    </tr>\n",
              "    <tr>\n",
              "      <th>4</th>\n",
              "      <td>2018</td>\n",
              "      <td>TR24TWEY5RVRQV65HD49</td>\n",
              "      <td>35614</td>\n",
              "      <td>NY</td>\n",
              "      <td>36081.0</td>\n",
              "      <td>3.608106e+10</td>\n",
              "      <td>C</td>\n",
              "      <td>Conventional:Subordinate Lien</td>\n",
              "      <td>Single Family (1-4 Units):Site-Built</td>\n",
              "      <td>Ethnicity Not Available</td>\n",
              "      <td>Race Not Available</td>\n",
              "      <td>Sex Not Available</td>\n",
              "      <td>3</td>\n",
              "      <td>0</td>\n",
              "      <td>2</td>\n",
              "      <td>1</td>\n",
              "      <td>2</td>\n",
              "      <td>2</td>\n",
              "      <td>2</td>\n",
              "      <td>1</td>\n",
              "      <td>2</td>\n",
              "      <td>305000.0</td>\n",
              "      <td>118.51</td>\n",
              "      <td>NaN</td>\n",
              "      <td>NaN</td>\n",
              "      <td>3</td>\n",
              "      <td>NaN</td>\n",
              "      <td>NaN</td>\n",
              "      <td>NaN</td>\n",
              "      <td>NaN</td>\n",
              "      <td>NaN</td>\n",
              "      <td>360</td>\n",
              "      <td>NaN</td>\n",
              "      <td>1</td>\n",
              "      <td>2</td>\n",
              "      <td>2</td>\n",
              "      <td>2</td>\n",
              "      <td>2</td>\n",
              "      <td>625000</td>\n",
              "      <td>1</td>\n",
              "      <td>...</td>\n",
              "      <td>3</td>\n",
              "      <td>3</td>\n",
              "      <td>6.0</td>\n",
              "      <td>NaN</td>\n",
              "      <td>NaN</td>\n",
              "      <td>NaN</td>\n",
              "      <td>NaN</td>\n",
              "      <td>6.0</td>\n",
              "      <td>NaN</td>\n",
              "      <td>NaN</td>\n",
              "      <td>NaN</td>\n",
              "      <td>NaN</td>\n",
              "      <td>3</td>\n",
              "      <td>3</td>\n",
              "      <td>3</td>\n",
              "      <td>3</td>\n",
              "      <td>3</td>\n",
              "      <td>3</td>\n",
              "      <td>35-44</td>\n",
              "      <td>35-44</td>\n",
              "      <td>No</td>\n",
              "      <td>No</td>\n",
              "      <td>1</td>\n",
              "      <td>1</td>\n",
              "      <td>6</td>\n",
              "      <td>NaN</td>\n",
              "      <td>NaN</td>\n",
              "      <td>NaN</td>\n",
              "      <td>NaN</td>\n",
              "      <td>4</td>\n",
              "      <td>1.0</td>\n",
              "      <td>NaN</td>\n",
              "      <td>NaN</td>\n",
              "      <td>1651</td>\n",
              "      <td>74.86</td>\n",
              "      <td>78000</td>\n",
              "      <td>96</td>\n",
              "      <td>314</td>\n",
              "      <td>511</td>\n",
              "      <td>73</td>\n",
              "    </tr>\n",
              "  </tbody>\n",
              "</table>\n",
              "<p>5 rows × 99 columns</p>\n",
              "</div>"
            ],
            "text/plain": [
              "   activity_year  ... tract_median_age_of_housing_units\n",
              "0           2018  ...                                46\n",
              "1           2018  ...                                45\n",
              "2           2018  ...                                60\n",
              "3           2018  ...                                36\n",
              "4           2018  ...                                73\n",
              "\n",
              "[5 rows x 99 columns]"
            ]
          },
          "metadata": {
            "tags": []
          },
          "execution_count": 3
        }
      ]
    },
    {
      "cell_type": "code",
      "metadata": {
        "id": "Yy-xr-RHI-su",
        "colab_type": "code",
        "outputId": "1a82d334-8ed6-44f1-f32d-927373d50780",
        "colab": {
          "base_uri": "https://localhost:8080/",
          "height": 35
        }
      },
      "source": [
        "hmda.shape"
      ],
      "execution_count": 0,
      "outputs": [
        {
          "output_type": "execute_result",
          "data": {
            "text/plain": [
              "(537081, 99)"
            ]
          },
          "metadata": {
            "tags": []
          },
          "execution_count": 4
        }
      ]
    },
    {
      "cell_type": "code",
      "metadata": {
        "id": "UqxS4RPicUTc",
        "colab_type": "code",
        "outputId": "65081854-a299-4f18-e819-476fc6b2b727",
        "colab": {
          "base_uri": "https://localhost:8080/",
          "height": 349
        }
      },
      "source": [
        "hmda.describe()"
      ],
      "execution_count": 0,
      "outputs": [
        {
          "output_type": "execute_result",
          "data": {
            "text/html": [
              "<div>\n",
              "<style scoped>\n",
              "    .dataframe tbody tr th:only-of-type {\n",
              "        vertical-align: middle;\n",
              "    }\n",
              "\n",
              "    .dataframe tbody tr th {\n",
              "        vertical-align: top;\n",
              "    }\n",
              "\n",
              "    .dataframe thead th {\n",
              "        text-align: right;\n",
              "    }\n",
              "</style>\n",
              "<table border=\"1\" class=\"dataframe\">\n",
              "  <thead>\n",
              "    <tr style=\"text-align: right;\">\n",
              "      <th></th>\n",
              "      <th>activity_year</th>\n",
              "      <th>derived_msa-md</th>\n",
              "      <th>county_code</th>\n",
              "      <th>census_tract</th>\n",
              "      <th>action_taken</th>\n",
              "      <th>purchaser_type</th>\n",
              "      <th>preapproval</th>\n",
              "      <th>loan_type</th>\n",
              "      <th>loan_purpose</th>\n",
              "      <th>lien_status</th>\n",
              "      <th>reverse_mortgage</th>\n",
              "      <th>open-end_line_of_credit</th>\n",
              "      <th>business_or_commercial_purpose</th>\n",
              "      <th>loan_amount</th>\n",
              "      <th>hoepa_status</th>\n",
              "      <th>negative_amortization</th>\n",
              "      <th>interest_only_payment</th>\n",
              "      <th>balloon_payment</th>\n",
              "      <th>other_nonamortizing_features</th>\n",
              "      <th>construction_method</th>\n",
              "      <th>occupancy_type</th>\n",
              "      <th>manufactured_home_secured_property_type</th>\n",
              "      <th>manufactured_home_land_property_interest</th>\n",
              "      <th>income</th>\n",
              "      <th>applicant_credit_score_type</th>\n",
              "      <th>co-applicant_credit_score_type</th>\n",
              "      <th>applicant_ethnicity-1</th>\n",
              "      <th>applicant_ethnicity-2</th>\n",
              "      <th>applicant_ethnicity-3</th>\n",
              "      <th>applicant_ethnicity-4</th>\n",
              "      <th>applicant_ethnicity-5</th>\n",
              "      <th>co-applicant_ethnicity-1</th>\n",
              "      <th>co-applicant_ethnicity-2</th>\n",
              "      <th>co-applicant_ethnicity-3</th>\n",
              "      <th>co-applicant_ethnicity-4</th>\n",
              "      <th>co-applicant_ethnicity-5</th>\n",
              "      <th>applicant_ethnicity_observed</th>\n",
              "      <th>co-applicant_ethnicity_observed</th>\n",
              "      <th>applicant_race-1</th>\n",
              "      <th>applicant_race-2</th>\n",
              "      <th>applicant_race-3</th>\n",
              "      <th>applicant_race-4</th>\n",
              "      <th>applicant_race-5</th>\n",
              "      <th>co-applicant_race-1</th>\n",
              "      <th>co-applicant_race-2</th>\n",
              "      <th>co-applicant_race-3</th>\n",
              "      <th>co-applicant_race-4</th>\n",
              "      <th>co-applicant_race-5</th>\n",
              "      <th>applicant_race_observed</th>\n",
              "      <th>co-applicant_race_observed</th>\n",
              "      <th>applicant_sex</th>\n",
              "      <th>co-applicant_sex</th>\n",
              "      <th>applicant_sex_observed</th>\n",
              "      <th>co-applicant_sex_observed</th>\n",
              "      <th>submission_of_application</th>\n",
              "      <th>initially_payable_to_institution</th>\n",
              "      <th>aus-1</th>\n",
              "      <th>aus-2</th>\n",
              "      <th>aus-3</th>\n",
              "      <th>aus-4</th>\n",
              "      <th>aus-5</th>\n",
              "      <th>denial_reason-1</th>\n",
              "      <th>denial_reason-2</th>\n",
              "      <th>denial_reason-3</th>\n",
              "      <th>denial_reason-4</th>\n",
              "      <th>tract_population</th>\n",
              "      <th>tract_minority_population_percent</th>\n",
              "      <th>ffiec_msa_md_median_family_income</th>\n",
              "      <th>tract_to_msa_income_percentage</th>\n",
              "      <th>tract_owner_occupied_units</th>\n",
              "      <th>tract_one_to_four_family_homes</th>\n",
              "      <th>tract_median_age_of_housing_units</th>\n",
              "    </tr>\n",
              "  </thead>\n",
              "  <tbody>\n",
              "    <tr>\n",
              "      <th>count</th>\n",
              "      <td>537081.0</td>\n",
              "      <td>537081.000000</td>\n",
              "      <td>533900.000000</td>\n",
              "      <td>5.332870e+05</td>\n",
              "      <td>537081.000000</td>\n",
              "      <td>537081.000000</td>\n",
              "      <td>537081.000000</td>\n",
              "      <td>537081.000000</td>\n",
              "      <td>537081.000000</td>\n",
              "      <td>537081.000000</td>\n",
              "      <td>537081.000000</td>\n",
              "      <td>537081.000000</td>\n",
              "      <td>537081.000000</td>\n",
              "      <td>5.370810e+05</td>\n",
              "      <td>537081.000000</td>\n",
              "      <td>537081.000000</td>\n",
              "      <td>537081.000000</td>\n",
              "      <td>537081.000000</td>\n",
              "      <td>537081.000000</td>\n",
              "      <td>537081.000000</td>\n",
              "      <td>537081.000000</td>\n",
              "      <td>537081.000000</td>\n",
              "      <td>537081.000000</td>\n",
              "      <td>4.836670e+05</td>\n",
              "      <td>537081.000000</td>\n",
              "      <td>537081.000000</td>\n",
              "      <td>536873.000000</td>\n",
              "      <td>12057.000000</td>\n",
              "      <td>268.000000</td>\n",
              "      <td>14.000000</td>\n",
              "      <td>7.000000</td>\n",
              "      <td>537012.000000</td>\n",
              "      <td>4538.000000</td>\n",
              "      <td>90.000000</td>\n",
              "      <td>2.000000</td>\n",
              "      <td>1.0</td>\n",
              "      <td>537081.000000</td>\n",
              "      <td>537081.000000</td>\n",
              "      <td>536974.000000</td>\n",
              "      <td>21514.000000</td>\n",
              "      <td>1107.000000</td>\n",
              "      <td>116.000000</td>\n",
              "      <td>39.000000</td>\n",
              "      <td>537031.000000</td>\n",
              "      <td>8675.000000</td>\n",
              "      <td>440.000000</td>\n",
              "      <td>33.000000</td>\n",
              "      <td>11.000000</td>\n",
              "      <td>537081.000000</td>\n",
              "      <td>537081.000000</td>\n",
              "      <td>537081.000000</td>\n",
              "      <td>537081.000000</td>\n",
              "      <td>537081.000000</td>\n",
              "      <td>537081.000000</td>\n",
              "      <td>537081.000000</td>\n",
              "      <td>537081.000000</td>\n",
              "      <td>537081.000000</td>\n",
              "      <td>25285.000000</td>\n",
              "      <td>8937.000000</td>\n",
              "      <td>1102.000000</td>\n",
              "      <td>879.000000</td>\n",
              "      <td>537081.000000</td>\n",
              "      <td>30213.00000</td>\n",
              "      <td>5730.000000</td>\n",
              "      <td>492.000000</td>\n",
              "      <td>537081.000000</td>\n",
              "      <td>537081.000000</td>\n",
              "      <td>537081.000000</td>\n",
              "      <td>537081.000000</td>\n",
              "      <td>537081.000000</td>\n",
              "      <td>537081.000000</td>\n",
              "      <td>537081.000000</td>\n",
              "    </tr>\n",
              "    <tr>\n",
              "      <th>mean</th>\n",
              "      <td>2018.0</td>\n",
              "      <td>36587.872757</td>\n",
              "      <td>36066.506291</td>\n",
              "      <td>3.606666e+10</td>\n",
              "      <td>2.425005</td>\n",
              "      <td>3.742702</td>\n",
              "      <td>1.979971</td>\n",
              "      <td>1.198117</td>\n",
              "      <td>11.037635</td>\n",
              "      <td>1.200638</td>\n",
              "      <td>33.156786</td>\n",
              "      <td>32.082611</td>\n",
              "      <td>33.117193</td>\n",
              "      <td>3.556458e+05</td>\n",
              "      <td>2.427978</td>\n",
              "      <td>33.488833</td>\n",
              "      <td>33.358570</td>\n",
              "      <td>33.468844</td>\n",
              "      <td>33.455326</td>\n",
              "      <td>1.014951</td>\n",
              "      <td>1.174646</td>\n",
              "      <td>34.921883</td>\n",
              "      <td>36.839428</td>\n",
              "      <td>1.785175e+02</td>\n",
              "      <td>37.292878</td>\n",
              "      <td>40.494341</td>\n",
              "      <td>2.327265</td>\n",
              "      <td>12.645434</td>\n",
              "      <td>12.940299</td>\n",
              "      <td>9.714286</td>\n",
              "      <td>13.571429</td>\n",
              "      <td>3.818287</td>\n",
              "      <td>12.534376</td>\n",
              "      <td>12.711111</td>\n",
              "      <td>13.500000</td>\n",
              "      <td>14.0</td>\n",
              "      <td>2.073730</td>\n",
              "      <td>3.142679</td>\n",
              "      <td>5.206116</td>\n",
              "      <td>20.657014</td>\n",
              "      <td>21.962963</td>\n",
              "      <td>21.344828</td>\n",
              "      <td>16.897436</td>\n",
              "      <td>6.782158</td>\n",
              "      <td>20.761499</td>\n",
              "      <td>21.865909</td>\n",
              "      <td>22.333333</td>\n",
              "      <td>13.272727</td>\n",
              "      <td>2.071120</td>\n",
              "      <td>3.142761</td>\n",
              "      <td>1.692341</td>\n",
              "      <td>3.681741</td>\n",
              "      <td>2.069926</td>\n",
              "      <td>3.142368</td>\n",
              "      <td>33.504045</td>\n",
              "      <td>33.557743</td>\n",
              "      <td>36.235089</td>\n",
              "      <td>3.264742</td>\n",
              "      <td>3.194696</td>\n",
              "      <td>1.323049</td>\n",
              "      <td>1.302617</td>\n",
              "      <td>25.995803</td>\n",
              "      <td>3.78314</td>\n",
              "      <td>4.524956</td>\n",
              "      <td>5.750000</td>\n",
              "      <td>4756.053902</td>\n",
              "      <td>30.653950</td>\n",
              "      <td>84759.584309</td>\n",
              "      <td>115.296324</td>\n",
              "      <td>1189.847652</td>\n",
              "      <td>1543.792232</td>\n",
              "      <td>54.049870</td>\n",
              "    </tr>\n",
              "    <tr>\n",
              "      <th>std</th>\n",
              "      <td>0.0</td>\n",
              "      <td>19794.282169</td>\n",
              "      <td>186.080278</td>\n",
              "      <td>1.856750e+08</td>\n",
              "      <td>1.755687</td>\n",
              "      <td>13.806219</td>\n",
              "      <td>0.140098</td>\n",
              "      <td>0.498535</td>\n",
              "      <td>13.861283</td>\n",
              "      <td>0.400478</td>\n",
              "      <td>183.273114</td>\n",
              "      <td>180.920459</td>\n",
              "      <td>183.267442</td>\n",
              "      <td>2.527502e+06</td>\n",
              "      <td>0.495418</td>\n",
              "      <td>184.201079</td>\n",
              "      <td>184.223654</td>\n",
              "      <td>184.204550</td>\n",
              "      <td>184.206895</td>\n",
              "      <td>0.121358</td>\n",
              "      <td>0.538219</td>\n",
              "      <td>185.403732</td>\n",
              "      <td>185.073696</td>\n",
              "      <td>1.735636e+04</td>\n",
              "      <td>185.454509</td>\n",
              "      <td>184.887940</td>\n",
              "      <td>1.259213</td>\n",
              "      <td>2.306860</td>\n",
              "      <td>1.804120</td>\n",
              "      <td>5.105481</td>\n",
              "      <td>0.534522</td>\n",
              "      <td>1.527508</td>\n",
              "      <td>2.551698</td>\n",
              "      <td>2.249816</td>\n",
              "      <td>0.707107</td>\n",
              "      <td>NaN</td>\n",
              "      <td>0.470052</td>\n",
              "      <td>0.991898</td>\n",
              "      <td>2.832562</td>\n",
              "      <td>7.827666</td>\n",
              "      <td>11.021575</td>\n",
              "      <td>14.599049</td>\n",
              "      <td>14.633766</td>\n",
              "      <td>2.187322</td>\n",
              "      <td>7.385211</td>\n",
              "      <td>9.863890</td>\n",
              "      <td>13.952300</td>\n",
              "      <td>15.087020</td>\n",
              "      <td>0.466763</td>\n",
              "      <td>0.991892</td>\n",
              "      <td>0.940480</td>\n",
              "      <td>1.568693</td>\n",
              "      <td>0.468021</td>\n",
              "      <td>0.993753</td>\n",
              "      <td>186.253141</td>\n",
              "      <td>186.244172</td>\n",
              "      <td>185.903421</td>\n",
              "      <td>1.778377</td>\n",
              "      <td>1.611744</td>\n",
              "      <td>0.695773</td>\n",
              "      <td>0.677917</td>\n",
              "      <td>137.315233</td>\n",
              "      <td>2.59244</td>\n",
              "      <td>2.669263</td>\n",
              "      <td>2.514419</td>\n",
              "      <td>1918.544503</td>\n",
              "      <td>29.197992</td>\n",
              "      <td>18961.437636</td>\n",
              "      <td>51.602541</td>\n",
              "      <td>612.536538</td>\n",
              "      <td>796.573595</td>\n",
              "      <td>15.820187</td>\n",
              "    </tr>\n",
              "    <tr>\n",
              "      <th>min</th>\n",
              "      <td>2018.0</td>\n",
              "      <td>0.000000</td>\n",
              "      <td>4013.000000</td>\n",
              "      <td>4.013815e+09</td>\n",
              "      <td>1.000000</td>\n",
              "      <td>0.000000</td>\n",
              "      <td>1.000000</td>\n",
              "      <td>1.000000</td>\n",
              "      <td>1.000000</td>\n",
              "      <td>1.000000</td>\n",
              "      <td>1.000000</td>\n",
              "      <td>1.000000</td>\n",
              "      <td>1.000000</td>\n",
              "      <td>5.000000e+03</td>\n",
              "      <td>1.000000</td>\n",
              "      <td>1.000000</td>\n",
              "      <td>1.000000</td>\n",
              "      <td>1.000000</td>\n",
              "      <td>1.000000</td>\n",
              "      <td>1.000000</td>\n",
              "      <td>1.000000</td>\n",
              "      <td>1.000000</td>\n",
              "      <td>1.000000</td>\n",
              "      <td>-1.786200e+04</td>\n",
              "      <td>1.000000</td>\n",
              "      <td>1.000000</td>\n",
              "      <td>1.000000</td>\n",
              "      <td>1.000000</td>\n",
              "      <td>1.000000</td>\n",
              "      <td>2.000000</td>\n",
              "      <td>13.000000</td>\n",
              "      <td>1.000000</td>\n",
              "      <td>1.000000</td>\n",
              "      <td>1.000000</td>\n",
              "      <td>13.000000</td>\n",
              "      <td>14.0</td>\n",
              "      <td>1.000000</td>\n",
              "      <td>1.000000</td>\n",
              "      <td>1.000000</td>\n",
              "      <td>1.000000</td>\n",
              "      <td>1.000000</td>\n",
              "      <td>4.000000</td>\n",
              "      <td>5.000000</td>\n",
              "      <td>1.000000</td>\n",
              "      <td>1.000000</td>\n",
              "      <td>1.000000</td>\n",
              "      <td>4.000000</td>\n",
              "      <td>5.000000</td>\n",
              "      <td>1.000000</td>\n",
              "      <td>1.000000</td>\n",
              "      <td>1.000000</td>\n",
              "      <td>1.000000</td>\n",
              "      <td>1.000000</td>\n",
              "      <td>1.000000</td>\n",
              "      <td>1.000000</td>\n",
              "      <td>1.000000</td>\n",
              "      <td>1.000000</td>\n",
              "      <td>1.000000</td>\n",
              "      <td>1.000000</td>\n",
              "      <td>1.000000</td>\n",
              "      <td>1.000000</td>\n",
              "      <td>1.000000</td>\n",
              "      <td>1.00000</td>\n",
              "      <td>1.000000</td>\n",
              "      <td>1.000000</td>\n",
              "      <td>0.000000</td>\n",
              "      <td>0.000000</td>\n",
              "      <td>0.000000</td>\n",
              "      <td>0.000000</td>\n",
              "      <td>0.000000</td>\n",
              "      <td>0.000000</td>\n",
              "      <td>0.000000</td>\n",
              "    </tr>\n",
              "    <tr>\n",
              "      <th>25%</th>\n",
              "      <td>2018.0</td>\n",
              "      <td>35004.000000</td>\n",
              "      <td>36047.000000</td>\n",
              "      <td>3.604707e+10</td>\n",
              "      <td>1.000000</td>\n",
              "      <td>0.000000</td>\n",
              "      <td>2.000000</td>\n",
              "      <td>1.000000</td>\n",
              "      <td>1.000000</td>\n",
              "      <td>1.000000</td>\n",
              "      <td>2.000000</td>\n",
              "      <td>2.000000</td>\n",
              "      <td>2.000000</td>\n",
              "      <td>9.500000e+04</td>\n",
              "      <td>2.000000</td>\n",
              "      <td>2.000000</td>\n",
              "      <td>2.000000</td>\n",
              "      <td>2.000000</td>\n",
              "      <td>2.000000</td>\n",
              "      <td>1.000000</td>\n",
              "      <td>1.000000</td>\n",
              "      <td>3.000000</td>\n",
              "      <td>5.000000</td>\n",
              "      <td>6.200000e+01</td>\n",
              "      <td>2.000000</td>\n",
              "      <td>9.000000</td>\n",
              "      <td>2.000000</td>\n",
              "      <td>12.000000</td>\n",
              "      <td>12.000000</td>\n",
              "      <td>4.500000</td>\n",
              "      <td>13.000000</td>\n",
              "      <td>2.000000</td>\n",
              "      <td>12.000000</td>\n",
              "      <td>12.000000</td>\n",
              "      <td>13.250000</td>\n",
              "      <td>14.0</td>\n",
              "      <td>2.000000</td>\n",
              "      <td>2.000000</td>\n",
              "      <td>5.000000</td>\n",
              "      <td>21.000000</td>\n",
              "      <td>21.000000</td>\n",
              "      <td>5.000000</td>\n",
              "      <td>5.000000</td>\n",
              "      <td>5.000000</td>\n",
              "      <td>21.000000</td>\n",
              "      <td>21.000000</td>\n",
              "      <td>5.000000</td>\n",
              "      <td>5.000000</td>\n",
              "      <td>2.000000</td>\n",
              "      <td>2.000000</td>\n",
              "      <td>1.000000</td>\n",
              "      <td>2.000000</td>\n",
              "      <td>2.000000</td>\n",
              "      <td>2.000000</td>\n",
              "      <td>1.000000</td>\n",
              "      <td>1.000000</td>\n",
              "      <td>1.000000</td>\n",
              "      <td>1.000000</td>\n",
              "      <td>2.000000</td>\n",
              "      <td>1.000000</td>\n",
              "      <td>1.000000</td>\n",
              "      <td>10.000000</td>\n",
              "      <td>1.00000</td>\n",
              "      <td>3.000000</td>\n",
              "      <td>4.000000</td>\n",
              "      <td>3448.000000</td>\n",
              "      <td>8.500000</td>\n",
              "      <td>74700.000000</td>\n",
              "      <td>87.000000</td>\n",
              "      <td>716.000000</td>\n",
              "      <td>1008.000000</td>\n",
              "      <td>44.000000</td>\n",
              "    </tr>\n",
              "    <tr>\n",
              "      <th>50%</th>\n",
              "      <td>2018.0</td>\n",
              "      <td>35614.000000</td>\n",
              "      <td>36065.000000</td>\n",
              "      <td>3.606502e+10</td>\n",
              "      <td>1.000000</td>\n",
              "      <td>0.000000</td>\n",
              "      <td>2.000000</td>\n",
              "      <td>1.000000</td>\n",
              "      <td>2.000000</td>\n",
              "      <td>1.000000</td>\n",
              "      <td>2.000000</td>\n",
              "      <td>2.000000</td>\n",
              "      <td>2.000000</td>\n",
              "      <td>1.850000e+05</td>\n",
              "      <td>2.000000</td>\n",
              "      <td>2.000000</td>\n",
              "      <td>2.000000</td>\n",
              "      <td>2.000000</td>\n",
              "      <td>2.000000</td>\n",
              "      <td>1.000000</td>\n",
              "      <td>1.000000</td>\n",
              "      <td>3.000000</td>\n",
              "      <td>5.000000</td>\n",
              "      <td>9.700000e+01</td>\n",
              "      <td>7.000000</td>\n",
              "      <td>9.000000</td>\n",
              "      <td>2.000000</td>\n",
              "      <td>14.000000</td>\n",
              "      <td>13.000000</td>\n",
              "      <td>12.000000</td>\n",
              "      <td>14.000000</td>\n",
              "      <td>5.000000</td>\n",
              "      <td>14.000000</td>\n",
              "      <td>13.000000</td>\n",
              "      <td>13.500000</td>\n",
              "      <td>14.0</td>\n",
              "      <td>2.000000</td>\n",
              "      <td>4.000000</td>\n",
              "      <td>5.000000</td>\n",
              "      <td>22.000000</td>\n",
              "      <td>23.000000</td>\n",
              "      <td>22.000000</td>\n",
              "      <td>5.000000</td>\n",
              "      <td>8.000000</td>\n",
              "      <td>22.000000</td>\n",
              "      <td>22.000000</td>\n",
              "      <td>23.000000</td>\n",
              "      <td>5.000000</td>\n",
              "      <td>2.000000</td>\n",
              "      <td>4.000000</td>\n",
              "      <td>1.000000</td>\n",
              "      <td>5.000000</td>\n",
              "      <td>2.000000</td>\n",
              "      <td>4.000000</td>\n",
              "      <td>1.000000</td>\n",
              "      <td>1.000000</td>\n",
              "      <td>6.000000</td>\n",
              "      <td>3.000000</td>\n",
              "      <td>2.000000</td>\n",
              "      <td>1.000000</td>\n",
              "      <td>1.000000</td>\n",
              "      <td>10.000000</td>\n",
              "      <td>3.00000</td>\n",
              "      <td>4.000000</td>\n",
              "      <td>6.000000</td>\n",
              "      <td>4581.000000</td>\n",
              "      <td>19.040000</td>\n",
              "      <td>78000.000000</td>\n",
              "      <td>107.000000</td>\n",
              "      <td>1175.000000</td>\n",
              "      <td>1541.000000</td>\n",
              "      <td>55.000000</td>\n",
              "    </tr>\n",
              "    <tr>\n",
              "      <th>75%</th>\n",
              "      <td>2018.0</td>\n",
              "      <td>35614.000000</td>\n",
              "      <td>36091.000000</td>\n",
              "      <td>3.609106e+10</td>\n",
              "      <td>3.000000</td>\n",
              "      <td>1.000000</td>\n",
              "      <td>2.000000</td>\n",
              "      <td>1.000000</td>\n",
              "      <td>31.000000</td>\n",
              "      <td>1.000000</td>\n",
              "      <td>2.000000</td>\n",
              "      <td>2.000000</td>\n",
              "      <td>2.000000</td>\n",
              "      <td>3.650000e+05</td>\n",
              "      <td>3.000000</td>\n",
              "      <td>2.000000</td>\n",
              "      <td>2.000000</td>\n",
              "      <td>2.000000</td>\n",
              "      <td>2.000000</td>\n",
              "      <td>1.000000</td>\n",
              "      <td>1.000000</td>\n",
              "      <td>3.000000</td>\n",
              "      <td>5.000000</td>\n",
              "      <td>1.520000e+02</td>\n",
              "      <td>9.000000</td>\n",
              "      <td>10.000000</td>\n",
              "      <td>2.000000</td>\n",
              "      <td>14.000000</td>\n",
              "      <td>14.000000</td>\n",
              "      <td>13.000000</td>\n",
              "      <td>14.000000</td>\n",
              "      <td>5.000000</td>\n",
              "      <td>14.000000</td>\n",
              "      <td>14.000000</td>\n",
              "      <td>13.750000</td>\n",
              "      <td>14.0</td>\n",
              "      <td>2.000000</td>\n",
              "      <td>4.000000</td>\n",
              "      <td>5.000000</td>\n",
              "      <td>23.000000</td>\n",
              "      <td>27.000000</td>\n",
              "      <td>27.000000</td>\n",
              "      <td>24.000000</td>\n",
              "      <td>8.000000</td>\n",
              "      <td>23.000000</td>\n",
              "      <td>27.000000</td>\n",
              "      <td>27.000000</td>\n",
              "      <td>13.500000</td>\n",
              "      <td>2.000000</td>\n",
              "      <td>4.000000</td>\n",
              "      <td>2.000000</td>\n",
              "      <td>5.000000</td>\n",
              "      <td>2.000000</td>\n",
              "      <td>4.000000</td>\n",
              "      <td>1.000000</td>\n",
              "      <td>1.000000</td>\n",
              "      <td>6.000000</td>\n",
              "      <td>5.000000</td>\n",
              "      <td>5.000000</td>\n",
              "      <td>1.000000</td>\n",
              "      <td>1.000000</td>\n",
              "      <td>10.000000</td>\n",
              "      <td>5.00000</td>\n",
              "      <td>6.000000</td>\n",
              "      <td>7.000000</td>\n",
              "      <td>5978.000000</td>\n",
              "      <td>42.140000</td>\n",
              "      <td>86400.000000</td>\n",
              "      <td>132.000000</td>\n",
              "      <td>1611.000000</td>\n",
              "      <td>2039.000000</td>\n",
              "      <td>65.000000</td>\n",
              "    </tr>\n",
              "    <tr>\n",
              "      <th>max</th>\n",
              "      <td>2018.0</td>\n",
              "      <td>99999.000000</td>\n",
              "      <td>55115.000000</td>\n",
              "      <td>5.511510e+10</td>\n",
              "      <td>8.000000</td>\n",
              "      <td>72.000000</td>\n",
              "      <td>2.000000</td>\n",
              "      <td>4.000000</td>\n",
              "      <td>32.000000</td>\n",
              "      <td>2.000000</td>\n",
              "      <td>1111.000000</td>\n",
              "      <td>1111.000000</td>\n",
              "      <td>1111.000000</td>\n",
              "      <td>5.000050e+08</td>\n",
              "      <td>3.000000</td>\n",
              "      <td>1111.000000</td>\n",
              "      <td>1111.000000</td>\n",
              "      <td>1111.000000</td>\n",
              "      <td>1111.000000</td>\n",
              "      <td>2.000000</td>\n",
              "      <td>3.000000</td>\n",
              "      <td>1111.000000</td>\n",
              "      <td>1111.000000</td>\n",
              "      <td>1.197064e+07</td>\n",
              "      <td>1111.000000</td>\n",
              "      <td>1111.000000</td>\n",
              "      <td>14.000000</td>\n",
              "      <td>14.000000</td>\n",
              "      <td>14.000000</td>\n",
              "      <td>14.000000</td>\n",
              "      <td>14.000000</td>\n",
              "      <td>14.000000</td>\n",
              "      <td>14.000000</td>\n",
              "      <td>14.000000</td>\n",
              "      <td>14.000000</td>\n",
              "      <td>14.0</td>\n",
              "      <td>3.000000</td>\n",
              "      <td>4.000000</td>\n",
              "      <td>44.000000</td>\n",
              "      <td>44.000000</td>\n",
              "      <td>44.000000</td>\n",
              "      <td>44.000000</td>\n",
              "      <td>44.000000</td>\n",
              "      <td>44.000000</td>\n",
              "      <td>44.000000</td>\n",
              "      <td>44.000000</td>\n",
              "      <td>44.000000</td>\n",
              "      <td>43.000000</td>\n",
              "      <td>3.000000</td>\n",
              "      <td>4.000000</td>\n",
              "      <td>6.000000</td>\n",
              "      <td>6.000000</td>\n",
              "      <td>3.000000</td>\n",
              "      <td>4.000000</td>\n",
              "      <td>1111.000000</td>\n",
              "      <td>1111.000000</td>\n",
              "      <td>1111.000000</td>\n",
              "      <td>5.000000</td>\n",
              "      <td>5.000000</td>\n",
              "      <td>5.000000</td>\n",
              "      <td>5.000000</td>\n",
              "      <td>1111.000000</td>\n",
              "      <td>9.00000</td>\n",
              "      <td>9.000000</td>\n",
              "      <td>9.000000</td>\n",
              "      <td>28926.000000</td>\n",
              "      <td>100.000000</td>\n",
              "      <td>123400.000000</td>\n",
              "      <td>347.000000</td>\n",
              "      <td>4682.000000</td>\n",
              "      <td>6541.000000</td>\n",
              "      <td>76.000000</td>\n",
              "    </tr>\n",
              "  </tbody>\n",
              "</table>\n",
              "</div>"
            ],
            "text/plain": [
              "       activity_year  ...  tract_median_age_of_housing_units\n",
              "count       537081.0  ...                      537081.000000\n",
              "mean          2018.0  ...                          54.049870\n",
              "std              0.0  ...                          15.820187\n",
              "min           2018.0  ...                           0.000000\n",
              "25%           2018.0  ...                          44.000000\n",
              "50%           2018.0  ...                          55.000000\n",
              "75%           2018.0  ...                          65.000000\n",
              "max           2018.0  ...                          76.000000\n",
              "\n",
              "[8 rows x 72 columns]"
            ]
          },
          "metadata": {
            "tags": []
          },
          "execution_count": 5
        }
      ]
    },
    {
      "cell_type": "code",
      "metadata": {
        "id": "qawEl9u91jg8",
        "colab_type": "code",
        "colab": {}
      },
      "source": [
        "null_value = hmda.isnull().any()"
      ],
      "execution_count": 0,
      "outputs": []
    },
    {
      "cell_type": "code",
      "metadata": {
        "id": "o-crDeZa2yYe",
        "colab_type": "code",
        "outputId": "496dec2d-2c2a-47c6-d6d1-98876e9e0740",
        "colab": {
          "base_uri": "https://localhost:8080/",
          "height": 881
        }
      },
      "source": [
        "null_value[null_value==True]"
      ],
      "execution_count": 0,
      "outputs": [
        {
          "output_type": "execute_result",
          "data": {
            "text/plain": [
              "county_code                     True\n",
              "census_tract                    True\n",
              "conforming_loan_limit           True\n",
              "loan_to_value_ratio             True\n",
              "interest_rate                   True\n",
              "rate_spread                     True\n",
              "total_loan_costs                True\n",
              "total_points_and_fees           True\n",
              "origination_charges             True\n",
              "discount_points                 True\n",
              "lender_credits                  True\n",
              "loan_term                       True\n",
              "prepayment_penalty_term         True\n",
              "intro_rate_period               True\n",
              "property_value                  True\n",
              "multifamily_affordable_units    True\n",
              "income                          True\n",
              "debt_to_income_ratio            True\n",
              "applicant_ethnicity-1           True\n",
              "applicant_ethnicity-2           True\n",
              "applicant_ethnicity-3           True\n",
              "applicant_ethnicity-4           True\n",
              "applicant_ethnicity-5           True\n",
              "co-applicant_ethnicity-1        True\n",
              "co-applicant_ethnicity-2        True\n",
              "co-applicant_ethnicity-3        True\n",
              "co-applicant_ethnicity-4        True\n",
              "co-applicant_ethnicity-5        True\n",
              "applicant_race-1                True\n",
              "applicant_race-2                True\n",
              "applicant_race-3                True\n",
              "applicant_race-4                True\n",
              "applicant_race-5                True\n",
              "co-applicant_race-1             True\n",
              "co-applicant_race-2             True\n",
              "co-applicant_race-3             True\n",
              "co-applicant_race-4             True\n",
              "co-applicant_race-5             True\n",
              "applicant_age_above_62          True\n",
              "co-applicant_age_above_62       True\n",
              "aus-2                           True\n",
              "aus-3                           True\n",
              "aus-4                           True\n",
              "aus-5                           True\n",
              "denial_reason-2                 True\n",
              "denial_reason-3                 True\n",
              "denial_reason-4                 True\n",
              "dtype: bool"
            ]
          },
          "metadata": {
            "tags": []
          },
          "execution_count": 7
        }
      ]
    },
    {
      "cell_type": "markdown",
      "metadata": {
        "id": "OgFCUwDemiMq",
        "colab_type": "text"
      },
      "source": [
        "#Feature Engineering"
      ]
    },
    {
      "cell_type": "code",
      "metadata": {
        "id": "ytIhGy6QolT-",
        "colab_type": "code",
        "colab": {}
      },
      "source": [
        "loan_originated = hmda.loc[hmda['action_taken']==1,:]\n",
        "application_denied = hmda.loc[hmda['action_taken']==3,:]\n",
        "new_hmda = pd.concat([loan_originated,application_denied])"
      ],
      "execution_count": 0,
      "outputs": []
    },
    {
      "cell_type": "markdown",
      "metadata": {
        "id": "nInKBh2Fmud7",
        "colab_type": "text"
      },
      "source": [
        "#EDA"
      ]
    },
    {
      "cell_type": "code",
      "metadata": {
        "id": "UHw7xOTS-Ajw",
        "colab_type": "code",
        "outputId": "5bd6b99d-51f9-4da8-9ad4-0271a33bf4e1",
        "colab": {
          "base_uri": "https://localhost:8080/",
          "height": 495
        }
      },
      "source": [
        "fig, ax = plt.subplots(figsize=(12, 5))\n",
        "sns.distplot(hmda['applicant_sex'], bins=10).set_title('applicant sex')\n",
        "plt.xticks(np.arange(7), (' ', 'Male', 'Female', 'Information not provided', 'Not applicable',' ','Applicant selected both male and female'))"
      ],
      "execution_count": 0,
      "outputs": [
        {
          "output_type": "execute_result",
          "data": {
            "text/plain": [
              "([<matplotlib.axis.XTick at 0x7f7bc020fcf8>,\n",
              "  <matplotlib.axis.XTick at 0x7f7bc020f400>,\n",
              "  <matplotlib.axis.XTick at 0x7f7bc020f0b8>,\n",
              "  <matplotlib.axis.XTick at 0x7f7bc01cf7f0>,\n",
              "  <matplotlib.axis.XTick at 0x7f7bc016fef0>,\n",
              "  <matplotlib.axis.XTick at 0x7f7bc017a400>,\n",
              "  <matplotlib.axis.XTick at 0x7f7bc017a8d0>],\n",
              " <a list of 7 Text xticklabel objects>)"
            ]
          },
          "metadata": {
            "tags": []
          },
          "execution_count": 9
        },
        {
          "output_type": "display_data",
          "data": {
            "image/png": "[encoded data removed]",
            "text/plain": [
              "<Figure size 864x360 with 1 Axes>"
            ]
          },
          "metadata": {
            "tags": []
          }
        }
      ]
    },
    {
      "cell_type": "code",
      "metadata": {
        "id": "tvZ1X3G7bLjs",
        "colab_type": "code",
        "outputId": "74cf1fc6-6c19-4b57-d991-e2c7d502eade",
        "colab": {
          "base_uri": "https://localhost:8080/",
          "height": 495
        }
      },
      "source": [
        "fig, ax = plt.subplots(figsize=(18, 5))\n",
        "sns.distplot(hmda['co-applicant_sex'], bins=10).set_title('co-applicant sex')\n",
        "plt.xticks(np.arange(7), (' ', 'Male', 'Female', 'Information not provided', 'Not applicable','No co-applicant','Applicant selected both male and female'))"
      ],
      "execution_count": 0,
      "outputs": [
        {
          "output_type": "execute_result",
          "data": {
            "text/plain": [
              "([<matplotlib.axis.XTick at 0x7f7bbfceb940>,\n",
              "  <matplotlib.axis.XTick at 0x7f7bbfceb080>,\n",
              "  <matplotlib.axis.XTick at 0x7f7bbfceb550>,\n",
              "  <matplotlib.axis.XTick at 0x7f7bbfd15320>,\n",
              "  <matplotlib.axis.XTick at 0x7f7bbfca3a20>,\n",
              "  <matplotlib.axis.XTick at 0x7f7bbfca3ac8>,\n",
              "  <matplotlib.axis.XTick at 0x7f7bbfcab198>],\n",
              " <a list of 7 Text xticklabel objects>)"
            ]
          },
          "metadata": {
            "tags": []
          },
          "execution_count": 10
        },
        {
          "output_type": "display_data",
          "data": {
            "image/png": "[encoded data removed]",
            "text/plain": [
              "<Figure size 1296x360 with 1 Axes>"
            ]
          },
          "metadata": {
            "tags": []
          }
        }
      ]
    },
    {
      "cell_type": "code",
      "metadata": {
        "id": "gATdRze3eHPF",
        "colab_type": "code",
        "outputId": "c7bbb293-3a10-45b1-9504-644e76b7c202",
        "colab": {
          "base_uri": "https://localhost:8080/",
          "height": 299
        }
      },
      "source": [
        "plt.hist(hmda['applicant_age'], bins=15)\n",
        "plt.title('applicant age distribution')"
      ],
      "execution_count": 0,
      "outputs": [
        {
          "output_type": "execute_result",
          "data": {
            "text/plain": [
              "Text(0.5, 1.0, 'applicant age distribution')"
            ]
          },
          "metadata": {
            "tags": []
          },
          "execution_count": 11
        },
        {
          "output_type": "display_data",
          "data": {
            "image/png": "[encoded data removed]",
            "text/plain": [
              "<Figure size 432x288 with 1 Axes>"
            ]
          },
          "metadata": {
            "tags": []
          }
        }
      ]
    },
    {
      "cell_type": "code",
      "metadata": {
        "colab_type": "code",
        "outputId": "376b18f5-2acf-476c-8918-5a214b9cd8db",
        "id": "03CsZ5zUckKk",
        "colab": {
          "base_uri": "https://localhost:8080/",
          "height": 495
        }
      },
      "source": [
        "fig, ax = plt.subplots(figsize=(18, 5))\n",
        "plt.hist([loan_originated['derived_race'], application_denied['derived_race']],bins=20, normed=True, histtype='bar', stacked=True)\n",
        "plt.title('derived race distribution')\n",
        "plt.xticks(rotation=20)\n",
        "plt.xticks(fontsize=12)"
      ],
      "execution_count": 0,
      "outputs": [
        {
          "output_type": "stream",
          "text": [
            "/usr/local/lib/python3.6/dist-packages/ipykernel_launcher.py:2: MatplotlibDeprecationWarning: \n",
            "The 'normed' kwarg was deprecated in Matplotlib 2.1 and will be removed in 3.1. Use 'density' instead.\n",
            "  \n"
          ],
          "name": "stderr"
        },
        {
          "output_type": "execute_result",
          "data": {
            "text/plain": [
              "([0, 1, 2, 3, 4, 5, 6, 7, 8], <a list of 9 Text xticklabel objects>)"
            ]
          },
          "metadata": {
            "tags": []
          },
          "execution_count": 12
        },
        {
          "output_type": "display_data",
          "data": {
            "image/png": "[encoded data removed]",
            "text/plain": [
              "<Figure size 1296x360 with 1 Axes>"
            ]
          },
          "metadata": {
            "tags": []
          }
        }
      ]
    },
    {
      "cell_type": "code",
      "metadata": {
        "colab_type": "code",
        "outputId": "8fcff708-f05b-4233-b05f-ee6f793c7bf0",
        "id": "7c_DwVV1luwZ",
        "colab": {
          "base_uri": "https://localhost:8080/",
          "height": 350
        }
      },
      "source": [
        "fig, ax = plt.subplots(figsize=(8, 4))\n",
        "sns.boxplot(x=new_hmda['action_taken'],y=new_hmda['loan_purpose'], width=0.4).set_title('loan purpose to action taken')\n",
        "plt.xticks(np.arange(2),('loan approved','loan denied'))"
      ],
      "execution_count": 0,
      "outputs": [
        {
          "output_type": "execute_result",
          "data": {
            "text/plain": [
              "([<matplotlib.axis.XTick at 0x7f7bbfb2db70>,\n",
              "  <matplotlib.axis.XTick at 0x7f7bbfb2d978>],\n",
              " <a list of 2 Text xticklabel objects>)"
            ]
          },
          "metadata": {
            "tags": []
          },
          "execution_count": 13
        },
        {
          "output_type": "display_data",
          "data": {
            "image/png": "[encoded data removed]",
            "text/plain": [
              "<Figure size 576x288 with 1 Axes>"
            ]
          },
          "metadata": {
            "tags": []
          }
        }
      ]
    },
    {
      "cell_type": "code",
      "metadata": {
        "id": "0VW0ixdpuS4v",
        "colab_type": "code",
        "outputId": "90d235c9-2a02-47a5-a371-fc5c9a97bdc2",
        "colab": {
          "base_uri": "https://localhost:8080/",
          "height": 125
        }
      },
      "source": [
        "application_denied.loc[application_denied['loan_purpose']==31,'loan_purpose'] = 'Refinancing'\n",
        "application_denied.loc[application_denied['loan_purpose']==32,'loan_purpose'] = 'Cash-out refinancing'\n",
        "application_denied.loc[application_denied['loan_purpose']==1,'loan_purpose'] = 'Home purchase'\n",
        "application_denied.loc[application_denied['loan_purpose']==2,'loan_purpose'] = 'Home improvement'\n",
        "application_denied.loc[application_denied['loan_purpose']==4,'loan_purpose'] = 'Other purpose'\n",
        "application_denied.loc[application_denied['loan_purpose']==5,'loan_purpose'] = 'Not applicable'"
      ],
      "execution_count": 0,
      "outputs": [
        {
          "output_type": "stream",
          "text": [
            "/usr/local/lib/python3.6/dist-packages/pandas/core/indexing.py:494: SettingWithCopyWarning: \n",
            "A value is trying to be set on a copy of a slice from a DataFrame.\n",
            "Try using .loc[row_indexer,col_indexer] = value instead\n",
            "\n",
            "See the caveats in the documentation: http://pandas.pydata.org/pandas-docs/stable/user_guide/indexing.html#returning-a-view-versus-a-copy\n",
            "  self.obj[item] = s\n"
          ],
          "name": "stderr"
        }
      ]
    },
    {
      "cell_type": "code",
      "metadata": {
        "colab_type": "code",
        "outputId": "a150cc14-298c-4fd4-a402-be56876e5288",
        "id": "ZyzkQeGhth6k",
        "colab": {
          "base_uri": "https://localhost:8080/",
          "height": 125
        }
      },
      "source": [
        "loan_originated.loc[loan_originated['loan_purpose']==31,'loan_purpose'] = 'Refinancing'\n",
        "loan_originated.loc[loan_originated['loan_purpose']==32,'loan_purpose'] = 'Cash-out refinancing'\n",
        "loan_originated.loc[loan_originated['loan_purpose']==1,'loan_purpose'] = 'Home purchase'\n",
        "loan_originated.loc[loan_originated['loan_purpose']==2,'loan_purpose'] = 'Home improvement'\n",
        "loan_originated.loc[loan_originated['loan_purpose']==4,'loan_purpose'] = 'Other purpose'\n",
        "loan_originated.loc[loan_originated['loan_purpose']==5,'loan_purpose'] = 'Not applicable'"
      ],
      "execution_count": 0,
      "outputs": [
        {
          "output_type": "stream",
          "text": [
            "/usr/local/lib/python3.6/dist-packages/pandas/core/indexing.py:494: SettingWithCopyWarning: \n",
            "A value is trying to be set on a copy of a slice from a DataFrame.\n",
            "Try using .loc[row_indexer,col_indexer] = value instead\n",
            "\n",
            "See the caveats in the documentation: http://pandas.pydata.org/pandas-docs/stable/user_guide/indexing.html#returning-a-view-versus-a-copy\n",
            "  self.obj[item] = s\n"
          ],
          "name": "stderr"
        }
      ]
    },
    {
      "cell_type": "code",
      "metadata": {
        "colab_type": "code",
        "outputId": "9b32a6f1-6e19-4984-b075-5d8dc828cd66",
        "id": "s_eMjeNGthf3",
        "colab": {
          "base_uri": "https://localhost:8080/",
          "height": 408
        }
      },
      "source": [
        "fig, ax = plt.subplots(figsize=(10, 5))\n",
        "plt.hist([loan_originated['loan_purpose'], application_denied['loan_purpose']],bins=10, normed=True, histtype='bar', stacked=True)\n",
        "plt.title('loan purpose distribution')\n",
        "#plt.xticks(plt.xticks(np.arange(7), ('Home purchase', 'Home improvement', '', 'Other purpose', 'Not applicable','Not applicable','Applicant selected both male and female')))"
      ],
      "execution_count": 0,
      "outputs": [
        {
          "output_type": "stream",
          "text": [
            "/usr/local/lib/python3.6/dist-packages/ipykernel_launcher.py:2: MatplotlibDeprecationWarning: \n",
            "The 'normed' kwarg was deprecated in Matplotlib 2.1 and will be removed in 3.1. Use 'density' instead.\n",
            "  \n"
          ],
          "name": "stderr"
        },
        {
          "output_type": "execute_result",
          "data": {
            "text/plain": [
              "Text(0.5, 1.0, 'loan purpose distribution')"
            ]
          },
          "metadata": {
            "tags": []
          },
          "execution_count": 22
        },
        {
          "output_type": "display_data",
          "data": {
            "image/png": "[encoded data removed]",
            "text/plain": [
              "<Figure size 720x360 with 1 Axes>"
            ]
          },
          "metadata": {
            "tags": []
          }
        }
      ]
    },
    {
      "cell_type": "code",
      "metadata": {
        "id": "mAkf9Y_gf2HW",
        "colab_type": "code",
        "outputId": "c5e2e523-4028-4d6c-ed19-f735ad566b09",
        "colab": {
          "base_uri": "https://localhost:8080/",
          "height": 411
        }
      },
      "source": [
        "plt.hist(hmda['co-applicant_age'], bins=17)"
      ],
      "execution_count": 0,
      "outputs": [
        {
          "output_type": "execute_result",
          "data": {
            "text/plain": [
              "(array([288493.,      0.,  47945.,      0.,  40681.,      0.,  47067.,\n",
              "             0.,  21903.,      0.,  41702.,      0.,   6897.,      0.,\n",
              "          4362.,      0.,  38031.]),\n",
              " array([0.        , 0.47058824, 0.94117647, 1.41176471, 1.88235294,\n",
              "        2.35294118, 2.82352941, 3.29411765, 3.76470588, 4.23529412,\n",
              "        4.70588235, 5.17647059, 5.64705882, 6.11764706, 6.58823529,\n",
              "        7.05882353, 7.52941176, 8.        ]),\n",
              " <a list of 17 Patch objects>)"
            ]
          },
          "metadata": {
            "tags": []
          },
          "execution_count": 14
        },
        {
          "output_type": "display_data",
          "data": {
            "image/png": "[encoded data removed]",
            "text/plain": [
              "<Figure size 432x288 with 1 Axes>"
            ]
          },
          "metadata": {
            "tags": []
          }
        }
      ]
    },
    {
      "cell_type": "code",
      "metadata": {
        "id": "fhr7Pz3yeqQM",
        "colab_type": "code",
        "outputId": "48665341-17b9-4b80-8db1-c354fee713f1",
        "colab": {
          "base_uri": "https://localhost:8080/",
          "height": 369
        }
      },
      "source": [
        "fig, ax = plt.subplots(figsize=(10, 5))\n",
        "sns.barplot(ax=ax, x=hmda['applicant_age'], y=hmda['loan_amount']).set_title('applicant age to loan amount')\n",
        "ax.set(ylim=(0, 400000))"
      ],
      "execution_count": 0,
      "outputs": [
        {
          "output_type": "execute_result",
          "data": {
            "text/plain": [
              "[(0, 400000)]"
            ]
          },
          "metadata": {
            "tags": []
          },
          "execution_count": 15
        },
        {
          "output_type": "display_data",
          "data": {
            "image/png": "[encoded data removed]",
            "text/plain": [
              "<Figure size 720x360 with 1 Axes>"
            ]
          },
          "metadata": {
            "tags": []
          }
        }
      ]
    },
    {
      "cell_type": "code",
      "metadata": {
        "id": "mGTH3nolMZmn",
        "colab_type": "code",
        "outputId": "0c523592-1c94-48fd-a12e-25c9555c2a1f",
        "colab": {
          "base_uri": "https://localhost:8080/",
          "height": 353
        }
      },
      "source": [
        "fig, ax = plt.subplots(figsize=(10, 5))\n",
        "sns.scatterplot(ax=ax, x=hmda['census_tract'], y=hmda['tract_population'])"
      ],
      "execution_count": 0,
      "outputs": [
        {
          "output_type": "execute_result",
          "data": {
            "text/plain": [
              "<matplotlib.axes._subplots.AxesSubplot at 0x7f838eb41828>"
            ]
          },
          "metadata": {
            "tags": []
          },
          "execution_count": 16
        },
        {
          "output_type": "display_data",
          "data": {
            "image/png": "[encoded data removed]",
            "text/plain": [
              "<Figure size 720x360 with 1 Axes>"
            ]
          },
          "metadata": {
            "tags": []
          }
        }
      ]
    },
    {
      "cell_type": "code",
      "metadata": {
        "id": "kim5r80-xqvE",
        "colab_type": "code",
        "outputId": "2e2e82c6-8bb0-4625-bc44-add317c777d2",
        "colab": {
          "base_uri": "https://localhost:8080/",
          "height": 314
        }
      },
      "source": [
        "sns.distplot(hmda['tract_population'], bins=20).set_title('tract population distribution')"
      ],
      "execution_count": 0,
      "outputs": [
        {
          "output_type": "execute_result",
          "data": {
            "text/plain": [
              "Text(0.5, 1.0, 'tract population distribution')"
            ]
          },
          "metadata": {
            "tags": []
          },
          "execution_count": 17
        },
        {
          "output_type": "display_data",
          "data": {
            "image/png": "[encoded data removed]",
            "text/plain": [
              "<Figure size 432x288 with 1 Axes>"
            ]
          },
          "metadata": {
            "tags": []
          }
        }
      ]
    },
    {
      "cell_type": "code",
      "metadata": {
        "id": "fHMO5mHCybfF",
        "colab_type": "code",
        "outputId": "66728c47-8758-4b0c-a245-26e525bd662f",
        "colab": {
          "base_uri": "https://localhost:8080/",
          "height": 405
        }
      },
      "source": [
        "fig, ax = plt.subplots(figsize=(7, 5))\n",
        "sns.barplot(ax=ax, x=new_hmda['action_taken'], y=new_hmda['tract_population']).set_title('action taken to tract population')\n",
        "plt.xticks(np.arange(2),('loan approved','loan denied'))"
      ],
      "execution_count": 0,
      "outputs": [
        {
          "output_type": "execute_result",
          "data": {
            "text/plain": [
              "([<matplotlib.axis.XTick at 0x7f838b174470>,\n",
              "  <matplotlib.axis.XTick at 0x7f838b183e10>],\n",
              " <a list of 2 Text xticklabel objects>)"
            ]
          },
          "metadata": {
            "tags": []
          },
          "execution_count": 18
        },
        {
          "output_type": "display_data",
          "data": {
            "image/png": "[encoded data removed]",
            "text/plain": [
              "<Figure size 504x360 with 1 Axes>"
            ]
          },
          "metadata": {
            "tags": []
          }
        }
      ]
    },
    {
      "cell_type": "code",
      "metadata": {
        "id": "h9qwlehZuwiz",
        "colab_type": "code",
        "outputId": "7a10aa8c-bf31-4d58-b43b-fad8f5d57636",
        "colab": {
          "base_uri": "https://localhost:8080/",
          "height": 354
        }
      },
      "source": [
        "fig, ax = plt.subplots(figsize=(20, 5))\n",
        "plt.hist(loan_originated['debt_to_income_ratio'].dropna(), bins=40)\n",
        "plt.title('debt-to-income ratio of loan originated applicants')"
      ],
      "execution_count": 0,
      "outputs": [
        {
          "output_type": "execute_result",
          "data": {
            "text/plain": [
              "Text(0.5, 1.0, 'debt-to-income ratio of loan originated applicants')"
            ]
          },
          "metadata": {
            "tags": []
          },
          "execution_count": 19
        },
        {
          "output_type": "display_data",
          "data": {
            "image/png": "[encoded data removed]",
            "text/plain": [
              "<Figure size 1440x360 with 1 Axes>"
            ]
          },
          "metadata": {
            "tags": []
          }
        }
      ]
    },
    {
      "cell_type": "code",
      "metadata": {
        "id": "Ig2qLYzFx72a",
        "colab_type": "code",
        "outputId": "47a25b56-0d46-4621-cf3c-1ac4953025ab",
        "colab": {
          "base_uri": "https://localhost:8080/",
          "height": 354
        }
      },
      "source": [
        "fig, ax = plt.subplots(figsize=(20, 5))\n",
        "plt.hist(application_denied['debt_to_income_ratio'].dropna(), bins=40)\n",
        "plt.title('debt-to-income ratio of application denied applicants')"
      ],
      "execution_count": 0,
      "outputs": [
        {
          "output_type": "execute_result",
          "data": {
            "text/plain": [
              "Text(0.5, 1.0, 'debt-to-income ratio of application denied applicants')"
            ]
          },
          "metadata": {
            "tags": []
          },
          "execution_count": 20
        },
        {
          "output_type": "display_data",
          "data": {
            "image/png": "[encoded data removed]",
            "text/plain": [
              "<Figure size 1440x360 with 1 Axes>"
            ]
          },
          "metadata": {
            "tags": []
          }
        }
      ]
    },
    {
      "cell_type": "code",
      "metadata": {
        "colab_type": "code",
        "outputId": "30fb33e1-bde9-486d-a751-b81d7a585080",
        "id": "nj-BQmGDcjSq",
        "colab": {
          "base_uri": "https://localhost:8080/",
          "height": 425
        }
      },
      "source": [
        "fig, ax = plt.subplots(figsize=(10, 4))\n",
        "plt.hist([loan_originated['lien_status'],application_denied['lien_status']],bins=4, normed=True, histtype='bar', stacked=True);\n",
        "plt.title('lien status to action')\n",
        "plt.xticks(np.arange(4), ('','First lien', 'Subordinate lien',''))"
      ],
      "execution_count": 0,
      "outputs": [
        {
          "output_type": "stream",
          "text": [
            "/usr/local/lib/python3.6/dist-packages/ipykernel_launcher.py:2: MatplotlibDeprecationWarning: \n",
            "The 'normed' kwarg was deprecated in Matplotlib 2.1 and will be removed in 3.1. Use 'density' instead.\n",
            "  \n"
          ],
          "name": "stderr"
        },
        {
          "output_type": "execute_result",
          "data": {
            "text/plain": [
              "([<matplotlib.axis.XTick at 0x7fe51bf34cf8>,\n",
              "  <matplotlib.axis.XTick at 0x7fe51bf345c0>,\n",
              "  <matplotlib.axis.XTick at 0x7fe51bf342e8>,\n",
              "  <matplotlib.axis.XTick at 0x7fe51bee9630>],\n",
              " <a list of 4 Text xticklabel objects>)"
            ]
          },
          "metadata": {
            "tags": []
          },
          "execution_count": 17
        },
        {
          "output_type": "display_data",
          "data": {
            "image/png": "[encoded data removed]",
            "text/plain": [
              "<Figure size 720x288 with 1 Axes>"
            ]
          },
          "metadata": {
            "tags": []
          }
        }
      ]
    },
    {
      "cell_type": "code",
      "metadata": {
        "id": "05K2C0MfAiFQ",
        "colab_type": "code",
        "outputId": "105064a1-7d20-4a80-d758-39b7e2df913c",
        "colab": {
          "base_uri": "https://localhost:8080/",
          "height": 534
        }
      },
      "source": [
        "fig, ax = plt.subplots(figsize=(13, 5))\n",
        "plt.hist([loan_originated['applicant_sex'],application_denied['applicant_sex']],bins=10, normed=True, histtype='bar', stacked=True);\n",
        "plt.title('applicant sex to action')\n",
        "plt.xticks(np.arange(7), (' ', 'Male', 'Female', 'Information not provided', 'Not applicable',' ','Applicant selected both male and female'))"
      ],
      "execution_count": 0,
      "outputs": [
        {
          "output_type": "stream",
          "text": [
            "/usr/local/lib/python3.6/dist-packages/ipykernel_launcher.py:2: MatplotlibDeprecationWarning: \n",
            "The 'normed' kwarg was deprecated in Matplotlib 2.1 and will be removed in 3.1. Use 'density' instead.\n",
            "  \n"
          ],
          "name": "stderr"
        },
        {
          "output_type": "execute_result",
          "data": {
            "text/plain": [
              "([<matplotlib.axis.XTick at 0x7fe51be01e48>,\n",
              "  <matplotlib.axis.XTick at 0x7fe51be0a978>,\n",
              "  <matplotlib.axis.XTick at 0x7fe51e807128>,\n",
              "  <matplotlib.axis.XTick at 0x7fe51bd787f0>,\n",
              "  <matplotlib.axis.XTick at 0x7fe51bd78da0>,\n",
              "  <matplotlib.axis.XTick at 0x7fe51bd812b0>,\n",
              "  <matplotlib.axis.XTick at 0x7fe51bd81828>],\n",
              " <a list of 7 Text xticklabel objects>)"
            ]
          },
          "metadata": {
            "tags": []
          },
          "execution_count": 20
        },
        {
          "output_type": "display_data",
          "data": {
            "image/png": "[encoded data removed]",
            "text/plain": [
              "<Figure size 936x360 with 1 Axes>"
            ]
          },
          "metadata": {
            "tags": []
          }
        }
      ]
    },
    {
      "cell_type": "code",
      "metadata": {
        "id": "nhq3kckOM0Iy",
        "colab_type": "code",
        "outputId": "cb276477-cc29-4714-9968-f1cf8d364e80",
        "colab": {
          "base_uri": "https://localhost:8080/",
          "height": 314
        }
      },
      "source": [
        "sns.distplot(hmda['action_taken'], bins=15).set_title('action_taken')"
      ],
      "execution_count": 0,
      "outputs": [
        {
          "output_type": "execute_result",
          "data": {
            "text/plain": [
              "Text(0.5, 1.0, 'action_taken')"
            ]
          },
          "metadata": {
            "tags": []
          },
          "execution_count": 21
        },
        {
          "output_type": "display_data",
          "data": {
            "image/png": "[encoded data removed]",
            "text/plain": [
              "<Figure size 432x288 with 1 Axes>"
            ]
          },
          "metadata": {
            "tags": []
          }
        }
      ]
    }
  ]
}