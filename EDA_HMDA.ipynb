{
  "nbformat": 4,
  "nbformat_minor": 0,
  "metadata": {
    "kernelspec": {
      "display_name": "Python 3",
      "language": "python",
      "name": "python3"
    },
    "language_info": {
      "codemirror_mode": {
        "name": "ipython",
        "version": 3
      },
      "file_extension": ".py",
      "mimetype": "text/x-python",
      "name": "python",
      "nbconvert_exporter": "python",
      "pygments_lexer": "ipython3",
      "version": "3.7.3"
    },
    "colab": {
      "name": "EDA_HMDA.ipynb",
      "provenance": [],
      "collapsed_sections": [],
      "machine_shape": "hm",
      "include_colab_link": true
    }
  },
  "cells": [
    {
      "cell_type": "markdown",
      "metadata": {
        "id": "view-in-github",
        "colab_type": "text"
      },
      "source": [
        "<a href=\"https://colab.research.google.com/github/OracyC/Capstone-HMDA/blob/master/EDA_HMDA.ipynb\" target=\"_parent\"><img src=\"https://colab.research.google.com/assets/colab-badge.svg\" alt=\"Open In Colab\"/></a>"
      ]
    },
    {
      "cell_type": "markdown",
      "metadata": {
        "id": "xyUQZ1IEmU9l",
        "colab_type": "text"
      },
      "source": [
        "# Read files"
      ]
    },
    {
      "cell_type": "code",
      "metadata": {
        "id": "XL7e-rNaXc_0",
        "colab_type": "code",
        "outputId": "dbee95fc-84de-4503-b6b8-b36f5ddc047b",
        "colab": {
          "base_uri": "https://localhost:8080/",
          "height": 575
        }
      },
      "source": [
        "files = \"https://github.com/OracyC/Capstone-HMDA/raw/master/hmda.zip\" \n",
        "!rm -rf * && pip install git+https://github.com/data-8/Gofer-Grader && wget $files && unzip -o hmda.zip"
      ],
      "execution_count": 0,
      "outputs": [
        {
          "output_type": "stream",
          "text": [
            "Collecting git+https://github.com/data-8/Gofer-Grader\n",
            "  Cloning https://github.com/data-8/Gofer-Grader to /tmp/pip-req-build-cnkrycqp\n",
            "  Running command git clone -q https://github.com/data-8/Gofer-Grader /tmp/pip-req-build-cnkrycqp\n",
            "Requirement already satisfied (use --upgrade to upgrade): gofer-grader==1.0.9 from git+https://github.com/data-8/Gofer-Grader in /usr/local/lib/python3.6/dist-packages\n",
            "Requirement already satisfied: jinja2 in /usr/local/lib/python3.6/dist-packages (from gofer-grader==1.0.9) (2.11.1)\n",
            "Requirement already satisfied: pygments in /usr/local/lib/python3.6/dist-packages (from gofer-grader==1.0.9) (2.1.3)\n",
            "Requirement already satisfied: tornado in /usr/local/lib/python3.6/dist-packages (from gofer-grader==1.0.9) (4.5.3)\n",
            "Requirement already satisfied: MarkupSafe>=0.23 in /usr/local/lib/python3.6/dist-packages (from jinja2->gofer-grader==1.0.9) (1.1.1)\n",
            "Building wheels for collected packages: gofer-grader\n",
            "  Building wheel for gofer-grader (setup.py) ... \u001b[?25l\u001b[?25hdone\n",
            "  Created wheel for gofer-grader: filename=gofer_grader-1.0.9-cp36-none-any.whl size=10171 sha256=b2ac0159222b9330af686d8ee4b505d28fce43b1808a48a93d11abb283674a44\n",
            "  Stored in directory: /tmp/pip-ephem-wheel-cache-bsgw1chg/wheels/9e/62/24/8563ae039051d6ba979557d1766bfebbda5dd08f8572e3e35d\n",
            "Successfully built gofer-grader\n",
            "--2020-03-02 20:26:18--  https://github.com/OracyC/Capstone-HMDA/raw/master/hmda.zip\n",
            "Resolving github.com (github.com)... 192.30.253.113\n",
            "Connecting to github.com (github.com)|192.30.253.113|:443... connected.\n",
            "HTTP request sent, awaiting response... 302 Found\n",
            "Location: https://raw.githubusercontent.com/OracyC/Capstone-HMDA/master/hmda.zip [following]\n",
            "--2020-03-02 20:26:18--  https://raw.githubusercontent.com/OracyC/Capstone-HMDA/master/hmda.zip\n",
            "Resolving raw.githubusercontent.com (raw.githubusercontent.com)... 151.101.0.133, 151.101.64.133, 151.101.128.133, ...\n",
            "Connecting to raw.githubusercontent.com (raw.githubusercontent.com)|151.101.0.133|:443... connected.\n",
            "HTTP request sent, awaiting response... 200 OK\n",
            "Length: 27055534 (26M) [application/zip]\n",
            "Saving to: ‘hmda.zip’\n",
            "\n",
            "hmda.zip            100%[===================>]  25.80M   125MB/s    in 0.2s    \n",
            "\n",
            "2020-03-02 20:26:19 (125 MB/s) - ‘hmda.zip’ saved [27055534/27055534]\n",
            "\n",
            "Archive:  hmda.zip\n",
            "  inflating: year_2018_state_NY.csv  \n"
          ],
          "name": "stdout"
        }
      ]
    },
    {
      "cell_type": "code",
      "metadata": {
        "id": "wnoHetH8XQQw",
        "colab_type": "code",
        "colab": {}
      },
      "source": [
        "import pandas as pd\n",
        "import numpy as np\n",
        "import seaborn as sns\n",
        "import matplotlib.pyplot as plt"
      ],
      "execution_count": 0,
      "outputs": []
    },
    {
      "cell_type": "code",
      "metadata": {
        "id": "eWnZpnWBXQRC",
        "colab_type": "code",
        "outputId": "5d431e7c-835a-4eda-b9b8-894536ad814a",
        "colab": {
          "base_uri": "https://localhost:8080/",
          "height": 409
        }
      },
      "source": [
        "hmda = pd.read_csv('year_2018_state_NY.csv')\n",
        "hmda.head()"
      ],
      "execution_count": 0,
      "outputs": [
        {
          "output_type": "stream",
          "text": [
            "/usr/local/lib/python3.6/dist-packages/IPython/core/interactiveshell.py:2718: DtypeWarning: Columns (22,23,24,26,27,28,29,30,31,32,33,38,43,44) have mixed types. Specify dtype option on import or set low_memory=False.\n",
            "  interactivity=interactivity, compiler=compiler, result=result)\n"
          ],
          "name": "stderr"
        },
        {
          "output_type": "execute_result",
          "data": {
            "text/html": [
              "<div>\n",
              "<style scoped>\n",
              "    .dataframe tbody tr th:only-of-type {\n",
              "        vertical-align: middle;\n",
              "    }\n",
              "\n",
              "    .dataframe tbody tr th {\n",
              "        vertical-align: top;\n",
              "    }\n",
              "\n",
              "    .dataframe thead th {\n",
              "        text-align: right;\n",
              "    }\n",
              "</style>\n",
              "<table border=\"1\" class=\"dataframe\">\n",
              "  <thead>\n",
              "    <tr style=\"text-align: right;\">\n",
              "      <th></th>\n",
              "      <th>activity_year</th>\n",
              "      <th>lei</th>\n",
              "      <th>derived_msa-md</th>\n",
              "      <th>state_code</th>\n",
              "      <th>county_code</th>\n",
              "      <th>census_tract</th>\n",
              "      <th>conforming_loan_limit</th>\n",
              "      <th>derived_loan_product_type</th>\n",
              "      <th>derived_dwelling_category</th>\n",
              "      <th>derived_ethnicity</th>\n",
              "      <th>derived_race</th>\n",
              "      <th>derived_sex</th>\n",
              "      <th>action_taken</th>\n",
              "      <th>purchaser_type</th>\n",
              "      <th>preapproval</th>\n",
              "      <th>loan_type</th>\n",
              "      <th>loan_purpose</th>\n",
              "      <th>lien_status</th>\n",
              "      <th>reverse_mortgage</th>\n",
              "      <th>open-end_line_of_credit</th>\n",
              "      <th>business_or_commercial_purpose</th>\n",
              "      <th>loan_amount</th>\n",
              "      <th>loan_to_value_ratio</th>\n",
              "      <th>interest_rate</th>\n",
              "      <th>rate_spread</th>\n",
              "      <th>hoepa_status</th>\n",
              "      <th>total_loan_costs</th>\n",
              "      <th>total_points_and_fees</th>\n",
              "      <th>origination_charges</th>\n",
              "      <th>discount_points</th>\n",
              "      <th>lender_credits</th>\n",
              "      <th>loan_term</th>\n",
              "      <th>prepayment_penalty_term</th>\n",
              "      <th>intro_rate_period</th>\n",
              "      <th>negative_amortization</th>\n",
              "      <th>interest_only_payment</th>\n",
              "      <th>balloon_payment</th>\n",
              "      <th>other_nonamortizing_features</th>\n",
              "      <th>property_value</th>\n",
              "      <th>construction_method</th>\n",
              "      <th>...</th>\n",
              "      <th>applicant_ethnicity_observed</th>\n",
              "      <th>co-applicant_ethnicity_observed</th>\n",
              "      <th>applicant_race-1</th>\n",
              "      <th>applicant_race-2</th>\n",
              "      <th>applicant_race-3</th>\n",
              "      <th>applicant_race-4</th>\n",
              "      <th>applicant_race-5</th>\n",
              "      <th>co-applicant_race-1</th>\n",
              "      <th>co-applicant_race-2</th>\n",
              "      <th>co-applicant_race-3</th>\n",
              "      <th>co-applicant_race-4</th>\n",
              "      <th>co-applicant_race-5</th>\n",
              "      <th>applicant_race_observed</th>\n",
              "      <th>co-applicant_race_observed</th>\n",
              "      <th>applicant_sex</th>\n",
              "      <th>co-applicant_sex</th>\n",
              "      <th>applicant_sex_observed</th>\n",
              "      <th>co-applicant_sex_observed</th>\n",
              "      <th>applicant_age</th>\n",
              "      <th>co-applicant_age</th>\n",
              "      <th>applicant_age_above_62</th>\n",
              "      <th>co-applicant_age_above_62</th>\n",
              "      <th>submission_of_application</th>\n",
              "      <th>initially_payable_to_institution</th>\n",
              "      <th>aus-1</th>\n",
              "      <th>aus-2</th>\n",
              "      <th>aus-3</th>\n",
              "      <th>aus-4</th>\n",
              "      <th>aus-5</th>\n",
              "      <th>denial_reason-1</th>\n",
              "      <th>denial_reason-2</th>\n",
              "      <th>denial_reason-3</th>\n",
              "      <th>denial_reason-4</th>\n",
              "      <th>tract_population</th>\n",
              "      <th>tract_minority_population_percent</th>\n",
              "      <th>ffiec_msa_md_median_family_income</th>\n",
              "      <th>tract_to_msa_income_percentage</th>\n",
              "      <th>tract_owner_occupied_units</th>\n",
              "      <th>tract_one_to_four_family_homes</th>\n",
              "      <th>tract_median_age_of_housing_units</th>\n",
              "    </tr>\n",
              "  </thead>\n",
              "  <tbody>\n",
              "    <tr>\n",
              "      <th>0</th>\n",
              "      <td>2018</td>\n",
              "      <td>TR24TWEY5RVRQV65HD49</td>\n",
              "      <td>35614</td>\n",
              "      <td>NY</td>\n",
              "      <td>36085.0</td>\n",
              "      <td>3.608502e+10</td>\n",
              "      <td>C</td>\n",
              "      <td>Conventional:Subordinate Lien</td>\n",
              "      <td>Single Family (1-4 Units):Site-Built</td>\n",
              "      <td>Ethnicity Not Available</td>\n",
              "      <td>Race Not Available</td>\n",
              "      <td>Sex Not Available</td>\n",
              "      <td>1</td>\n",
              "      <td>0</td>\n",
              "      <td>2</td>\n",
              "      <td>1</td>\n",
              "      <td>2</td>\n",
              "      <td>2</td>\n",
              "      <td>2</td>\n",
              "      <td>1</td>\n",
              "      <td>2</td>\n",
              "      <td>195000.0</td>\n",
              "      <td>76.07</td>\n",
              "      <td>5</td>\n",
              "      <td>0.61</td>\n",
              "      <td>2</td>\n",
              "      <td>NaN</td>\n",
              "      <td>NaN</td>\n",
              "      <td>NaN</td>\n",
              "      <td>NaN</td>\n",
              "      <td>NaN</td>\n",
              "      <td>360</td>\n",
              "      <td>NaN</td>\n",
              "      <td>1</td>\n",
              "      <td>2</td>\n",
              "      <td>1</td>\n",
              "      <td>2</td>\n",
              "      <td>2</td>\n",
              "      <td>805000</td>\n",
              "      <td>1</td>\n",
              "      <td>...</td>\n",
              "      <td>3</td>\n",
              "      <td>4</td>\n",
              "      <td>6.0</td>\n",
              "      <td>NaN</td>\n",
              "      <td>NaN</td>\n",
              "      <td>NaN</td>\n",
              "      <td>NaN</td>\n",
              "      <td>8.0</td>\n",
              "      <td>NaN</td>\n",
              "      <td>NaN</td>\n",
              "      <td>NaN</td>\n",
              "      <td>NaN</td>\n",
              "      <td>3</td>\n",
              "      <td>4</td>\n",
              "      <td>3</td>\n",
              "      <td>5</td>\n",
              "      <td>3</td>\n",
              "      <td>4</td>\n",
              "      <td>45-54</td>\n",
              "      <td>9999</td>\n",
              "      <td>No</td>\n",
              "      <td>NaN</td>\n",
              "      <td>1</td>\n",
              "      <td>1</td>\n",
              "      <td>6</td>\n",
              "      <td>NaN</td>\n",
              "      <td>NaN</td>\n",
              "      <td>NaN</td>\n",
              "      <td>NaN</td>\n",
              "      <td>10</td>\n",
              "      <td>NaN</td>\n",
              "      <td>NaN</td>\n",
              "      <td>NaN</td>\n",
              "      <td>7200</td>\n",
              "      <td>49.71</td>\n",
              "      <td>78000</td>\n",
              "      <td>124</td>\n",
              "      <td>1442</td>\n",
              "      <td>2378</td>\n",
              "      <td>46</td>\n",
              "    </tr>\n",
              "    <tr>\n",
              "      <th>1</th>\n",
              "      <td>2018</td>\n",
              "      <td>TR24TWEY5RVRQV65HD49</td>\n",
              "      <td>35614</td>\n",
              "      <td>NY</td>\n",
              "      <td>36085.0</td>\n",
              "      <td>3.608501e+10</td>\n",
              "      <td>C</td>\n",
              "      <td>Conventional:Subordinate Lien</td>\n",
              "      <td>Single Family (1-4 Units):Site-Built</td>\n",
              "      <td>Ethnicity Not Available</td>\n",
              "      <td>Race Not Available</td>\n",
              "      <td>Sex Not Available</td>\n",
              "      <td>1</td>\n",
              "      <td>0</td>\n",
              "      <td>2</td>\n",
              "      <td>1</td>\n",
              "      <td>4</td>\n",
              "      <td>2</td>\n",
              "      <td>2</td>\n",
              "      <td>1</td>\n",
              "      <td>2</td>\n",
              "      <td>75000.0</td>\n",
              "      <td>79.14</td>\n",
              "      <td>5.75</td>\n",
              "      <td>1.31</td>\n",
              "      <td>2</td>\n",
              "      <td>NaN</td>\n",
              "      <td>NaN</td>\n",
              "      <td>NaN</td>\n",
              "      <td>NaN</td>\n",
              "      <td>NaN</td>\n",
              "      <td>360</td>\n",
              "      <td>NaN</td>\n",
              "      <td>1</td>\n",
              "      <td>2</td>\n",
              "      <td>2</td>\n",
              "      <td>2</td>\n",
              "      <td>2</td>\n",
              "      <td>525000</td>\n",
              "      <td>1</td>\n",
              "      <td>...</td>\n",
              "      <td>3</td>\n",
              "      <td>3</td>\n",
              "      <td>6.0</td>\n",
              "      <td>NaN</td>\n",
              "      <td>NaN</td>\n",
              "      <td>NaN</td>\n",
              "      <td>NaN</td>\n",
              "      <td>6.0</td>\n",
              "      <td>NaN</td>\n",
              "      <td>NaN</td>\n",
              "      <td>NaN</td>\n",
              "      <td>NaN</td>\n",
              "      <td>3</td>\n",
              "      <td>3</td>\n",
              "      <td>3</td>\n",
              "      <td>3</td>\n",
              "      <td>3</td>\n",
              "      <td>3</td>\n",
              "      <td>35-44</td>\n",
              "      <td>35-44</td>\n",
              "      <td>No</td>\n",
              "      <td>No</td>\n",
              "      <td>1</td>\n",
              "      <td>1</td>\n",
              "      <td>6</td>\n",
              "      <td>NaN</td>\n",
              "      <td>NaN</td>\n",
              "      <td>NaN</td>\n",
              "      <td>NaN</td>\n",
              "      <td>10</td>\n",
              "      <td>NaN</td>\n",
              "      <td>NaN</td>\n",
              "      <td>NaN</td>\n",
              "      <td>4042</td>\n",
              "      <td>28.40</td>\n",
              "      <td>78000</td>\n",
              "      <td>102</td>\n",
              "      <td>1051</td>\n",
              "      <td>1617</td>\n",
              "      <td>45</td>\n",
              "    </tr>\n",
              "    <tr>\n",
              "      <th>2</th>\n",
              "      <td>2018</td>\n",
              "      <td>TR24TWEY5RVRQV65HD49</td>\n",
              "      <td>35614</td>\n",
              "      <td>NY</td>\n",
              "      <td>36061.0</td>\n",
              "      <td>3.606102e+10</td>\n",
              "      <td>NC</td>\n",
              "      <td>Conventional:First Lien</td>\n",
              "      <td>Single Family (1-4 Units):Site-Built</td>\n",
              "      <td>Ethnicity Not Available</td>\n",
              "      <td>Race Not Available</td>\n",
              "      <td>Sex Not Available</td>\n",
              "      <td>1</td>\n",
              "      <td>0</td>\n",
              "      <td>2</td>\n",
              "      <td>1</td>\n",
              "      <td>4</td>\n",
              "      <td>1</td>\n",
              "      <td>2</td>\n",
              "      <td>1</td>\n",
              "      <td>2</td>\n",
              "      <td>755000.0</td>\n",
              "      <td>32.61</td>\n",
              "      <td>4.5</td>\n",
              "      <td>0</td>\n",
              "      <td>2</td>\n",
              "      <td>NaN</td>\n",
              "      <td>NaN</td>\n",
              "      <td>NaN</td>\n",
              "      <td>NaN</td>\n",
              "      <td>NaN</td>\n",
              "      <td>360</td>\n",
              "      <td>NaN</td>\n",
              "      <td>1</td>\n",
              "      <td>2</td>\n",
              "      <td>2</td>\n",
              "      <td>2</td>\n",
              "      <td>2</td>\n",
              "      <td>2.305e+06</td>\n",
              "      <td>1</td>\n",
              "      <td>...</td>\n",
              "      <td>3</td>\n",
              "      <td>3</td>\n",
              "      <td>6.0</td>\n",
              "      <td>NaN</td>\n",
              "      <td>NaN</td>\n",
              "      <td>NaN</td>\n",
              "      <td>NaN</td>\n",
              "      <td>6.0</td>\n",
              "      <td>NaN</td>\n",
              "      <td>NaN</td>\n",
              "      <td>NaN</td>\n",
              "      <td>NaN</td>\n",
              "      <td>3</td>\n",
              "      <td>3</td>\n",
              "      <td>3</td>\n",
              "      <td>3</td>\n",
              "      <td>3</td>\n",
              "      <td>3</td>\n",
              "      <td>65-74</td>\n",
              "      <td>55-64</td>\n",
              "      <td>Yes</td>\n",
              "      <td>No</td>\n",
              "      <td>1</td>\n",
              "      <td>1</td>\n",
              "      <td>6</td>\n",
              "      <td>NaN</td>\n",
              "      <td>NaN</td>\n",
              "      <td>NaN</td>\n",
              "      <td>NaN</td>\n",
              "      <td>10</td>\n",
              "      <td>NaN</td>\n",
              "      <td>NaN</td>\n",
              "      <td>NaN</td>\n",
              "      <td>7962</td>\n",
              "      <td>93.82</td>\n",
              "      <td>78000</td>\n",
              "      <td>43</td>\n",
              "      <td>122</td>\n",
              "      <td>343</td>\n",
              "      <td>60</td>\n",
              "    </tr>\n",
              "    <tr>\n",
              "      <th>3</th>\n",
              "      <td>2018</td>\n",
              "      <td>TR24TWEY5RVRQV65HD49</td>\n",
              "      <td>35614</td>\n",
              "      <td>NY</td>\n",
              "      <td>36047.0</td>\n",
              "      <td>3.604712e+10</td>\n",
              "      <td>NC</td>\n",
              "      <td>Conventional:Subordinate Lien</td>\n",
              "      <td>Single Family (1-4 Units):Site-Built</td>\n",
              "      <td>Ethnicity Not Available</td>\n",
              "      <td>Race Not Available</td>\n",
              "      <td>Sex Not Available</td>\n",
              "      <td>1</td>\n",
              "      <td>0</td>\n",
              "      <td>2</td>\n",
              "      <td>1</td>\n",
              "      <td>2</td>\n",
              "      <td>2</td>\n",
              "      <td>2</td>\n",
              "      <td>1</td>\n",
              "      <td>2</td>\n",
              "      <td>545000.0</td>\n",
              "      <td>79.98</td>\n",
              "      <td>5</td>\n",
              "      <td>0.56</td>\n",
              "      <td>2</td>\n",
              "      <td>NaN</td>\n",
              "      <td>NaN</td>\n",
              "      <td>NaN</td>\n",
              "      <td>NaN</td>\n",
              "      <td>NaN</td>\n",
              "      <td>360</td>\n",
              "      <td>NaN</td>\n",
              "      <td>1</td>\n",
              "      <td>2</td>\n",
              "      <td>2</td>\n",
              "      <td>2</td>\n",
              "      <td>2</td>\n",
              "      <td>1.105e+06</td>\n",
              "      <td>1</td>\n",
              "      <td>...</td>\n",
              "      <td>3</td>\n",
              "      <td>4</td>\n",
              "      <td>6.0</td>\n",
              "      <td>NaN</td>\n",
              "      <td>NaN</td>\n",
              "      <td>NaN</td>\n",
              "      <td>NaN</td>\n",
              "      <td>8.0</td>\n",
              "      <td>NaN</td>\n",
              "      <td>NaN</td>\n",
              "      <td>NaN</td>\n",
              "      <td>NaN</td>\n",
              "      <td>3</td>\n",
              "      <td>4</td>\n",
              "      <td>3</td>\n",
              "      <td>5</td>\n",
              "      <td>3</td>\n",
              "      <td>4</td>\n",
              "      <td>35-44</td>\n",
              "      <td>9999</td>\n",
              "      <td>No</td>\n",
              "      <td>NaN</td>\n",
              "      <td>1</td>\n",
              "      <td>1</td>\n",
              "      <td>6</td>\n",
              "      <td>NaN</td>\n",
              "      <td>NaN</td>\n",
              "      <td>NaN</td>\n",
              "      <td>NaN</td>\n",
              "      <td>10</td>\n",
              "      <td>NaN</td>\n",
              "      <td>NaN</td>\n",
              "      <td>NaN</td>\n",
              "      <td>6522</td>\n",
              "      <td>16.36</td>\n",
              "      <td>78000</td>\n",
              "      <td>42</td>\n",
              "      <td>198</td>\n",
              "      <td>434</td>\n",
              "      <td>36</td>\n",
              "    </tr>\n",
              "    <tr>\n",
              "      <th>4</th>\n",
              "      <td>2018</td>\n",
              "      <td>TR24TWEY5RVRQV65HD49</td>\n",
              "      <td>35614</td>\n",
              "      <td>NY</td>\n",
              "      <td>36081.0</td>\n",
              "      <td>3.608106e+10</td>\n",
              "      <td>C</td>\n",
              "      <td>Conventional:Subordinate Lien</td>\n",
              "      <td>Single Family (1-4 Units):Site-Built</td>\n",
              "      <td>Ethnicity Not Available</td>\n",
              "      <td>Race Not Available</td>\n",
              "      <td>Sex Not Available</td>\n",
              "      <td>3</td>\n",
              "      <td>0</td>\n",
              "      <td>2</td>\n",
              "      <td>1</td>\n",
              "      <td>2</td>\n",
              "      <td>2</td>\n",
              "      <td>2</td>\n",
              "      <td>1</td>\n",
              "      <td>2</td>\n",
              "      <td>305000.0</td>\n",
              "      <td>118.51</td>\n",
              "      <td>NaN</td>\n",
              "      <td>NaN</td>\n",
              "      <td>3</td>\n",
              "      <td>NaN</td>\n",
              "      <td>NaN</td>\n",
              "      <td>NaN</td>\n",
              "      <td>NaN</td>\n",
              "      <td>NaN</td>\n",
              "      <td>360</td>\n",
              "      <td>NaN</td>\n",
              "      <td>1</td>\n",
              "      <td>2</td>\n",
              "      <td>2</td>\n",
              "      <td>2</td>\n",
              "      <td>2</td>\n",
              "      <td>625000</td>\n",
              "      <td>1</td>\n",
              "      <td>...</td>\n",
              "      <td>3</td>\n",
              "      <td>3</td>\n",
              "      <td>6.0</td>\n",
              "      <td>NaN</td>\n",
              "      <td>NaN</td>\n",
              "      <td>NaN</td>\n",
              "      <td>NaN</td>\n",
              "      <td>6.0</td>\n",
              "      <td>NaN</td>\n",
              "      <td>NaN</td>\n",
              "      <td>NaN</td>\n",
              "      <td>NaN</td>\n",
              "      <td>3</td>\n",
              "      <td>3</td>\n",
              "      <td>3</td>\n",
              "      <td>3</td>\n",
              "      <td>3</td>\n",
              "      <td>3</td>\n",
              "      <td>35-44</td>\n",
              "      <td>35-44</td>\n",
              "      <td>No</td>\n",
              "      <td>No</td>\n",
              "      <td>1</td>\n",
              "      <td>1</td>\n",
              "      <td>6</td>\n",
              "      <td>NaN</td>\n",
              "      <td>NaN</td>\n",
              "      <td>NaN</td>\n",
              "      <td>NaN</td>\n",
              "      <td>4</td>\n",
              "      <td>1.0</td>\n",
              "      <td>NaN</td>\n",
              "      <td>NaN</td>\n",
              "      <td>1651</td>\n",
              "      <td>74.86</td>\n",
              "      <td>78000</td>\n",
              "      <td>96</td>\n",
              "      <td>314</td>\n",
              "      <td>511</td>\n",
              "      <td>73</td>\n",
              "    </tr>\n",
              "  </tbody>\n",
              "</table>\n",
              "<p>5 rows × 99 columns</p>\n",
              "</div>"
            ],
            "text/plain": [
              "   activity_year  ... tract_median_age_of_housing_units\n",
              "0           2018  ...                                46\n",
              "1           2018  ...                                45\n",
              "2           2018  ...                                60\n",
              "3           2018  ...                                36\n",
              "4           2018  ...                                73\n",
              "\n",
              "[5 rows x 99 columns]"
            ]
          },
          "metadata": {
            "tags": []
          },
          "execution_count": 46
        }
      ]
    },
    {
      "cell_type": "code",
      "metadata": {
        "id": "Yy-xr-RHI-su",
        "colab_type": "code",
        "outputId": "bd2be89e-63a1-4861-c86b-22d4f02c9eab",
        "colab": {
          "base_uri": "https://localhost:8080/",
          "height": 35
        }
      },
      "source": [
        "hmda.shape"
      ],
      "execution_count": 0,
      "outputs": [
        {
          "output_type": "execute_result",
          "data": {
            "text/plain": [
              "(537081, 99)"
            ]
          },
          "metadata": {
            "tags": []
          },
          "execution_count": 21
        }
      ]
    },
    {
      "cell_type": "code",
      "metadata": {
        "id": "UqxS4RPicUTc",
        "colab_type": "code",
        "outputId": "1d96eb44-034f-4366-a035-788d94d09972",
        "colab": {
          "base_uri": "https://localhost:8080/",
          "height": 349
        }
      },
      "source": [
        "hmda.describe()"
      ],
      "execution_count": 0,
      "outputs": [
        {
          "output_type": "execute_result",
          "data": {
            "text/html": [
              "<div>\n",
              "<style scoped>\n",
              "    .dataframe tbody tr th:only-of-type {\n",
              "        vertical-align: middle;\n",
              "    }\n",
              "\n",
              "    .dataframe tbody tr th {\n",
              "        vertical-align: top;\n",
              "    }\n",
              "\n",
              "    .dataframe thead th {\n",
              "        text-align: right;\n",
              "    }\n",
              "</style>\n",
              "<table border=\"1\" class=\"dataframe\">\n",
              "  <thead>\n",
              "    <tr style=\"text-align: right;\">\n",
              "      <th></th>\n",
              "      <th>activity_year</th>\n",
              "      <th>derived_msa-md</th>\n",
              "      <th>county_code</th>\n",
              "      <th>census_tract</th>\n",
              "      <th>action_taken</th>\n",
              "      <th>purchaser_type</th>\n",
              "      <th>preapproval</th>\n",
              "      <th>loan_type</th>\n",
              "      <th>loan_purpose</th>\n",
              "      <th>lien_status</th>\n",
              "      <th>reverse_mortgage</th>\n",
              "      <th>open-end_line_of_credit</th>\n",
              "      <th>business_or_commercial_purpose</th>\n",
              "      <th>loan_amount</th>\n",
              "      <th>hoepa_status</th>\n",
              "      <th>negative_amortization</th>\n",
              "      <th>interest_only_payment</th>\n",
              "      <th>balloon_payment</th>\n",
              "      <th>other_nonamortizing_features</th>\n",
              "      <th>construction_method</th>\n",
              "      <th>occupancy_type</th>\n",
              "      <th>manufactured_home_secured_property_type</th>\n",
              "      <th>manufactured_home_land_property_interest</th>\n",
              "      <th>income</th>\n",
              "      <th>applicant_credit_score_type</th>\n",
              "      <th>co-applicant_credit_score_type</th>\n",
              "      <th>applicant_ethnicity-1</th>\n",
              "      <th>applicant_ethnicity-2</th>\n",
              "      <th>applicant_ethnicity-3</th>\n",
              "      <th>applicant_ethnicity-4</th>\n",
              "      <th>applicant_ethnicity-5</th>\n",
              "      <th>co-applicant_ethnicity-1</th>\n",
              "      <th>co-applicant_ethnicity-2</th>\n",
              "      <th>co-applicant_ethnicity-3</th>\n",
              "      <th>co-applicant_ethnicity-4</th>\n",
              "      <th>co-applicant_ethnicity-5</th>\n",
              "      <th>applicant_ethnicity_observed</th>\n",
              "      <th>co-applicant_ethnicity_observed</th>\n",
              "      <th>applicant_race-1</th>\n",
              "      <th>applicant_race-2</th>\n",
              "      <th>applicant_race-3</th>\n",
              "      <th>applicant_race-4</th>\n",
              "      <th>applicant_race-5</th>\n",
              "      <th>co-applicant_race-1</th>\n",
              "      <th>co-applicant_race-2</th>\n",
              "      <th>co-applicant_race-3</th>\n",
              "      <th>co-applicant_race-4</th>\n",
              "      <th>co-applicant_race-5</th>\n",
              "      <th>applicant_race_observed</th>\n",
              "      <th>co-applicant_race_observed</th>\n",
              "      <th>applicant_sex</th>\n",
              "      <th>co-applicant_sex</th>\n",
              "      <th>applicant_sex_observed</th>\n",
              "      <th>co-applicant_sex_observed</th>\n",
              "      <th>submission_of_application</th>\n",
              "      <th>initially_payable_to_institution</th>\n",
              "      <th>aus-1</th>\n",
              "      <th>aus-2</th>\n",
              "      <th>aus-3</th>\n",
              "      <th>aus-4</th>\n",
              "      <th>aus-5</th>\n",
              "      <th>denial_reason-1</th>\n",
              "      <th>denial_reason-2</th>\n",
              "      <th>denial_reason-3</th>\n",
              "      <th>denial_reason-4</th>\n",
              "      <th>tract_population</th>\n",
              "      <th>tract_minority_population_percent</th>\n",
              "      <th>ffiec_msa_md_median_family_income</th>\n",
              "      <th>tract_to_msa_income_percentage</th>\n",
              "      <th>tract_owner_occupied_units</th>\n",
              "      <th>tract_one_to_four_family_homes</th>\n",
              "      <th>tract_median_age_of_housing_units</th>\n",
              "    </tr>\n",
              "  </thead>\n",
              "  <tbody>\n",
              "    <tr>\n",
              "      <th>count</th>\n",
              "      <td>537081.0</td>\n",
              "      <td>537081.000000</td>\n",
              "      <td>533900.000000</td>\n",
              "      <td>5.332870e+05</td>\n",
              "      <td>537081.000000</td>\n",
              "      <td>537081.000000</td>\n",
              "      <td>537081.000000</td>\n",
              "      <td>537081.000000</td>\n",
              "      <td>537081.000000</td>\n",
              "      <td>537081.000000</td>\n",
              "      <td>537081.000000</td>\n",
              "      <td>537081.000000</td>\n",
              "      <td>537081.000000</td>\n",
              "      <td>5.370810e+05</td>\n",
              "      <td>537081.000000</td>\n",
              "      <td>537081.000000</td>\n",
              "      <td>537081.000000</td>\n",
              "      <td>537081.000000</td>\n",
              "      <td>537081.000000</td>\n",
              "      <td>537081.000000</td>\n",
              "      <td>537081.000000</td>\n",
              "      <td>537081.000000</td>\n",
              "      <td>537081.000000</td>\n",
              "      <td>4.836670e+05</td>\n",
              "      <td>537081.000000</td>\n",
              "      <td>537081.000000</td>\n",
              "      <td>536873.000000</td>\n",
              "      <td>12057.000000</td>\n",
              "      <td>268.000000</td>\n",
              "      <td>14.000000</td>\n",
              "      <td>7.000000</td>\n",
              "      <td>537012.000000</td>\n",
              "      <td>4538.000000</td>\n",
              "      <td>90.000000</td>\n",
              "      <td>2.000000</td>\n",
              "      <td>1.0</td>\n",
              "      <td>537081.000000</td>\n",
              "      <td>537081.000000</td>\n",
              "      <td>536974.000000</td>\n",
              "      <td>21514.000000</td>\n",
              "      <td>1107.000000</td>\n",
              "      <td>116.000000</td>\n",
              "      <td>39.000000</td>\n",
              "      <td>537031.000000</td>\n",
              "      <td>8675.000000</td>\n",
              "      <td>440.000000</td>\n",
              "      <td>33.000000</td>\n",
              "      <td>11.000000</td>\n",
              "      <td>537081.000000</td>\n",
              "      <td>537081.000000</td>\n",
              "      <td>537081.000000</td>\n",
              "      <td>537081.000000</td>\n",
              "      <td>537081.000000</td>\n",
              "      <td>537081.000000</td>\n",
              "      <td>537081.000000</td>\n",
              "      <td>537081.000000</td>\n",
              "      <td>537081.000000</td>\n",
              "      <td>25285.000000</td>\n",
              "      <td>8937.000000</td>\n",
              "      <td>1102.000000</td>\n",
              "      <td>879.000000</td>\n",
              "      <td>537081.000000</td>\n",
              "      <td>30213.00000</td>\n",
              "      <td>5730.000000</td>\n",
              "      <td>492.000000</td>\n",
              "      <td>537081.000000</td>\n",
              "      <td>537081.000000</td>\n",
              "      <td>537081.000000</td>\n",
              "      <td>537081.000000</td>\n",
              "      <td>537081.000000</td>\n",
              "      <td>537081.000000</td>\n",
              "      <td>537081.000000</td>\n",
              "    </tr>\n",
              "    <tr>\n",
              "      <th>mean</th>\n",
              "      <td>2018.0</td>\n",
              "      <td>36587.872757</td>\n",
              "      <td>36066.506291</td>\n",
              "      <td>3.606666e+10</td>\n",
              "      <td>2.425005</td>\n",
              "      <td>3.742702</td>\n",
              "      <td>1.979971</td>\n",
              "      <td>1.198117</td>\n",
              "      <td>11.037635</td>\n",
              "      <td>1.200638</td>\n",
              "      <td>33.156786</td>\n",
              "      <td>32.082611</td>\n",
              "      <td>33.117193</td>\n",
              "      <td>3.556458e+05</td>\n",
              "      <td>2.427978</td>\n",
              "      <td>33.488833</td>\n",
              "      <td>33.358570</td>\n",
              "      <td>33.468844</td>\n",
              "      <td>33.455326</td>\n",
              "      <td>1.014951</td>\n",
              "      <td>1.174646</td>\n",
              "      <td>34.921883</td>\n",
              "      <td>36.839428</td>\n",
              "      <td>1.785175e+02</td>\n",
              "      <td>37.292878</td>\n",
              "      <td>40.494341</td>\n",
              "      <td>2.327265</td>\n",
              "      <td>12.645434</td>\n",
              "      <td>12.940299</td>\n",
              "      <td>9.714286</td>\n",
              "      <td>13.571429</td>\n",
              "      <td>3.818287</td>\n",
              "      <td>12.534376</td>\n",
              "      <td>12.711111</td>\n",
              "      <td>13.500000</td>\n",
              "      <td>14.0</td>\n",
              "      <td>2.073730</td>\n",
              "      <td>3.142679</td>\n",
              "      <td>5.206116</td>\n",
              "      <td>20.657014</td>\n",
              "      <td>21.962963</td>\n",
              "      <td>21.344828</td>\n",
              "      <td>16.897436</td>\n",
              "      <td>6.782158</td>\n",
              "      <td>20.761499</td>\n",
              "      <td>21.865909</td>\n",
              "      <td>22.333333</td>\n",
              "      <td>13.272727</td>\n",
              "      <td>2.071120</td>\n",
              "      <td>3.142761</td>\n",
              "      <td>1.692341</td>\n",
              "      <td>3.681741</td>\n",
              "      <td>2.069926</td>\n",
              "      <td>3.142368</td>\n",
              "      <td>33.504045</td>\n",
              "      <td>33.557743</td>\n",
              "      <td>36.235089</td>\n",
              "      <td>3.264742</td>\n",
              "      <td>3.194696</td>\n",
              "      <td>1.323049</td>\n",
              "      <td>1.302617</td>\n",
              "      <td>25.995803</td>\n",
              "      <td>3.78314</td>\n",
              "      <td>4.524956</td>\n",
              "      <td>5.750000</td>\n",
              "      <td>4756.053902</td>\n",
              "      <td>30.653950</td>\n",
              "      <td>84759.584309</td>\n",
              "      <td>115.296324</td>\n",
              "      <td>1189.847652</td>\n",
              "      <td>1543.792232</td>\n",
              "      <td>54.049870</td>\n",
              "    </tr>\n",
              "    <tr>\n",
              "      <th>std</th>\n",
              "      <td>0.0</td>\n",
              "      <td>19794.282169</td>\n",
              "      <td>186.080278</td>\n",
              "      <td>1.856750e+08</td>\n",
              "      <td>1.755687</td>\n",
              "      <td>13.806219</td>\n",
              "      <td>0.140098</td>\n",
              "      <td>0.498535</td>\n",
              "      <td>13.861283</td>\n",
              "      <td>0.400478</td>\n",
              "      <td>183.273114</td>\n",
              "      <td>180.920459</td>\n",
              "      <td>183.267442</td>\n",
              "      <td>2.527502e+06</td>\n",
              "      <td>0.495418</td>\n",
              "      <td>184.201079</td>\n",
              "      <td>184.223654</td>\n",
              "      <td>184.204550</td>\n",
              "      <td>184.206895</td>\n",
              "      <td>0.121358</td>\n",
              "      <td>0.538219</td>\n",
              "      <td>185.403732</td>\n",
              "      <td>185.073696</td>\n",
              "      <td>1.735636e+04</td>\n",
              "      <td>185.454509</td>\n",
              "      <td>184.887940</td>\n",
              "      <td>1.259213</td>\n",
              "      <td>2.306860</td>\n",
              "      <td>1.804120</td>\n",
              "      <td>5.105481</td>\n",
              "      <td>0.534522</td>\n",
              "      <td>1.527508</td>\n",
              "      <td>2.551698</td>\n",
              "      <td>2.249816</td>\n",
              "      <td>0.707107</td>\n",
              "      <td>NaN</td>\n",
              "      <td>0.470052</td>\n",
              "      <td>0.991898</td>\n",
              "      <td>2.832562</td>\n",
              "      <td>7.827666</td>\n",
              "      <td>11.021575</td>\n",
              "      <td>14.599049</td>\n",
              "      <td>14.633766</td>\n",
              "      <td>2.187322</td>\n",
              "      <td>7.385211</td>\n",
              "      <td>9.863890</td>\n",
              "      <td>13.952300</td>\n",
              "      <td>15.087020</td>\n",
              "      <td>0.466763</td>\n",
              "      <td>0.991892</td>\n",
              "      <td>0.940480</td>\n",
              "      <td>1.568693</td>\n",
              "      <td>0.468021</td>\n",
              "      <td>0.993753</td>\n",
              "      <td>186.253141</td>\n",
              "      <td>186.244172</td>\n",
              "      <td>185.903421</td>\n",
              "      <td>1.778377</td>\n",
              "      <td>1.611744</td>\n",
              "      <td>0.695773</td>\n",
              "      <td>0.677917</td>\n",
              "      <td>137.315233</td>\n",
              "      <td>2.59244</td>\n",
              "      <td>2.669263</td>\n",
              "      <td>2.514419</td>\n",
              "      <td>1918.544503</td>\n",
              "      <td>29.197992</td>\n",
              "      <td>18961.437636</td>\n",
              "      <td>51.602541</td>\n",
              "      <td>612.536538</td>\n",
              "      <td>796.573595</td>\n",
              "      <td>15.820187</td>\n",
              "    </tr>\n",
              "    <tr>\n",
              "      <th>min</th>\n",
              "      <td>2018.0</td>\n",
              "      <td>0.000000</td>\n",
              "      <td>4013.000000</td>\n",
              "      <td>4.013815e+09</td>\n",
              "      <td>1.000000</td>\n",
              "      <td>0.000000</td>\n",
              "      <td>1.000000</td>\n",
              "      <td>1.000000</td>\n",
              "      <td>1.000000</td>\n",
              "      <td>1.000000</td>\n",
              "      <td>1.000000</td>\n",
              "      <td>1.000000</td>\n",
              "      <td>1.000000</td>\n",
              "      <td>5.000000e+03</td>\n",
              "      <td>1.000000</td>\n",
              "      <td>1.000000</td>\n",
              "      <td>1.000000</td>\n",
              "      <td>1.000000</td>\n",
              "      <td>1.000000</td>\n",
              "      <td>1.000000</td>\n",
              "      <td>1.000000</td>\n",
              "      <td>1.000000</td>\n",
              "      <td>1.000000</td>\n",
              "      <td>-1.786200e+04</td>\n",
              "      <td>1.000000</td>\n",
              "      <td>1.000000</td>\n",
              "      <td>1.000000</td>\n",
              "      <td>1.000000</td>\n",
              "      <td>1.000000</td>\n",
              "      <td>2.000000</td>\n",
              "      <td>13.000000</td>\n",
              "      <td>1.000000</td>\n",
              "      <td>1.000000</td>\n",
              "      <td>1.000000</td>\n",
              "      <td>13.000000</td>\n",
              "      <td>14.0</td>\n",
              "      <td>1.000000</td>\n",
              "      <td>1.000000</td>\n",
              "      <td>1.000000</td>\n",
              "      <td>1.000000</td>\n",
              "      <td>1.000000</td>\n",
              "      <td>4.000000</td>\n",
              "      <td>5.000000</td>\n",
              "      <td>1.000000</td>\n",
              "      <td>1.000000</td>\n",
              "      <td>1.000000</td>\n",
              "      <td>4.000000</td>\n",
              "      <td>5.000000</td>\n",
              "      <td>1.000000</td>\n",
              "      <td>1.000000</td>\n",
              "      <td>1.000000</td>\n",
              "      <td>1.000000</td>\n",
              "      <td>1.000000</td>\n",
              "      <td>1.000000</td>\n",
              "      <td>1.000000</td>\n",
              "      <td>1.000000</td>\n",
              "      <td>1.000000</td>\n",
              "      <td>1.000000</td>\n",
              "      <td>1.000000</td>\n",
              "      <td>1.000000</td>\n",
              "      <td>1.000000</td>\n",
              "      <td>1.000000</td>\n",
              "      <td>1.00000</td>\n",
              "      <td>1.000000</td>\n",
              "      <td>1.000000</td>\n",
              "      <td>0.000000</td>\n",
              "      <td>0.000000</td>\n",
              "      <td>0.000000</td>\n",
              "      <td>0.000000</td>\n",
              "      <td>0.000000</td>\n",
              "      <td>0.000000</td>\n",
              "      <td>0.000000</td>\n",
              "    </tr>\n",
              "    <tr>\n",
              "      <th>25%</th>\n",
              "      <td>2018.0</td>\n",
              "      <td>35004.000000</td>\n",
              "      <td>36047.000000</td>\n",
              "      <td>3.604707e+10</td>\n",
              "      <td>1.000000</td>\n",
              "      <td>0.000000</td>\n",
              "      <td>2.000000</td>\n",
              "      <td>1.000000</td>\n",
              "      <td>1.000000</td>\n",
              "      <td>1.000000</td>\n",
              "      <td>2.000000</td>\n",
              "      <td>2.000000</td>\n",
              "      <td>2.000000</td>\n",
              "      <td>9.500000e+04</td>\n",
              "      <td>2.000000</td>\n",
              "      <td>2.000000</td>\n",
              "      <td>2.000000</td>\n",
              "      <td>2.000000</td>\n",
              "      <td>2.000000</td>\n",
              "      <td>1.000000</td>\n",
              "      <td>1.000000</td>\n",
              "      <td>3.000000</td>\n",
              "      <td>5.000000</td>\n",
              "      <td>6.200000e+01</td>\n",
              "      <td>2.000000</td>\n",
              "      <td>9.000000</td>\n",
              "      <td>2.000000</td>\n",
              "      <td>12.000000</td>\n",
              "      <td>12.000000</td>\n",
              "      <td>4.500000</td>\n",
              "      <td>13.000000</td>\n",
              "      <td>2.000000</td>\n",
              "      <td>12.000000</td>\n",
              "      <td>12.000000</td>\n",
              "      <td>13.250000</td>\n",
              "      <td>14.0</td>\n",
              "      <td>2.000000</td>\n",
              "      <td>2.000000</td>\n",
              "      <td>5.000000</td>\n",
              "      <td>21.000000</td>\n",
              "      <td>21.000000</td>\n",
              "      <td>5.000000</td>\n",
              "      <td>5.000000</td>\n",
              "      <td>5.000000</td>\n",
              "      <td>21.000000</td>\n",
              "      <td>21.000000</td>\n",
              "      <td>5.000000</td>\n",
              "      <td>5.000000</td>\n",
              "      <td>2.000000</td>\n",
              "      <td>2.000000</td>\n",
              "      <td>1.000000</td>\n",
              "      <td>2.000000</td>\n",
              "      <td>2.000000</td>\n",
              "      <td>2.000000</td>\n",
              "      <td>1.000000</td>\n",
              "      <td>1.000000</td>\n",
              "      <td>1.000000</td>\n",
              "      <td>1.000000</td>\n",
              "      <td>2.000000</td>\n",
              "      <td>1.000000</td>\n",
              "      <td>1.000000</td>\n",
              "      <td>10.000000</td>\n",
              "      <td>1.00000</td>\n",
              "      <td>3.000000</td>\n",
              "      <td>4.000000</td>\n",
              "      <td>3448.000000</td>\n",
              "      <td>8.500000</td>\n",
              "      <td>74700.000000</td>\n",
              "      <td>87.000000</td>\n",
              "      <td>716.000000</td>\n",
              "      <td>1008.000000</td>\n",
              "      <td>44.000000</td>\n",
              "    </tr>\n",
              "    <tr>\n",
              "      <th>50%</th>\n",
              "      <td>2018.0</td>\n",
              "      <td>35614.000000</td>\n",
              "      <td>36065.000000</td>\n",
              "      <td>3.606502e+10</td>\n",
              "      <td>1.000000</td>\n",
              "      <td>0.000000</td>\n",
              "      <td>2.000000</td>\n",
              "      <td>1.000000</td>\n",
              "      <td>2.000000</td>\n",
              "      <td>1.000000</td>\n",
              "      <td>2.000000</td>\n",
              "      <td>2.000000</td>\n",
              "      <td>2.000000</td>\n",
              "      <td>1.850000e+05</td>\n",
              "      <td>2.000000</td>\n",
              "      <td>2.000000</td>\n",
              "      <td>2.000000</td>\n",
              "      <td>2.000000</td>\n",
              "      <td>2.000000</td>\n",
              "      <td>1.000000</td>\n",
              "      <td>1.000000</td>\n",
              "      <td>3.000000</td>\n",
              "      <td>5.000000</td>\n",
              "      <td>9.700000e+01</td>\n",
              "      <td>7.000000</td>\n",
              "      <td>9.000000</td>\n",
              "      <td>2.000000</td>\n",
              "      <td>14.000000</td>\n",
              "      <td>13.000000</td>\n",
              "      <td>12.000000</td>\n",
              "      <td>14.000000</td>\n",
              "      <td>5.000000</td>\n",
              "      <td>14.000000</td>\n",
              "      <td>13.000000</td>\n",
              "      <td>13.500000</td>\n",
              "      <td>14.0</td>\n",
              "      <td>2.000000</td>\n",
              "      <td>4.000000</td>\n",
              "      <td>5.000000</td>\n",
              "      <td>22.000000</td>\n",
              "      <td>23.000000</td>\n",
              "      <td>22.000000</td>\n",
              "      <td>5.000000</td>\n",
              "      <td>8.000000</td>\n",
              "      <td>22.000000</td>\n",
              "      <td>22.000000</td>\n",
              "      <td>23.000000</td>\n",
              "      <td>5.000000</td>\n",
              "      <td>2.000000</td>\n",
              "      <td>4.000000</td>\n",
              "      <td>1.000000</td>\n",
              "      <td>5.000000</td>\n",
              "      <td>2.000000</td>\n",
              "      <td>4.000000</td>\n",
              "      <td>1.000000</td>\n",
              "      <td>1.000000</td>\n",
              "      <td>6.000000</td>\n",
              "      <td>3.000000</td>\n",
              "      <td>2.000000</td>\n",
              "      <td>1.000000</td>\n",
              "      <td>1.000000</td>\n",
              "      <td>10.000000</td>\n",
              "      <td>3.00000</td>\n",
              "      <td>4.000000</td>\n",
              "      <td>6.000000</td>\n",
              "      <td>4581.000000</td>\n",
              "      <td>19.040000</td>\n",
              "      <td>78000.000000</td>\n",
              "      <td>107.000000</td>\n",
              "      <td>1175.000000</td>\n",
              "      <td>1541.000000</td>\n",
              "      <td>55.000000</td>\n",
              "    </tr>\n",
              "    <tr>\n",
              "      <th>75%</th>\n",
              "      <td>2018.0</td>\n",
              "      <td>35614.000000</td>\n",
              "      <td>36091.000000</td>\n",
              "      <td>3.609106e+10</td>\n",
              "      <td>3.000000</td>\n",
              "      <td>1.000000</td>\n",
              "      <td>2.000000</td>\n",
              "      <td>1.000000</td>\n",
              "      <td>31.000000</td>\n",
              "      <td>1.000000</td>\n",
              "      <td>2.000000</td>\n",
              "      <td>2.000000</td>\n",
              "      <td>2.000000</td>\n",
              "      <td>3.650000e+05</td>\n",
              "      <td>3.000000</td>\n",
              "      <td>2.000000</td>\n",
              "      <td>2.000000</td>\n",
              "      <td>2.000000</td>\n",
              "      <td>2.000000</td>\n",
              "      <td>1.000000</td>\n",
              "      <td>1.000000</td>\n",
              "      <td>3.000000</td>\n",
              "      <td>5.000000</td>\n",
              "      <td>1.520000e+02</td>\n",
              "      <td>9.000000</td>\n",
              "      <td>10.000000</td>\n",
              "      <td>2.000000</td>\n",
              "      <td>14.000000</td>\n",
              "      <td>14.000000</td>\n",
              "      <td>13.000000</td>\n",
              "      <td>14.000000</td>\n",
              "      <td>5.000000</td>\n",
              "      <td>14.000000</td>\n",
              "      <td>14.000000</td>\n",
              "      <td>13.750000</td>\n",
              "      <td>14.0</td>\n",
              "      <td>2.000000</td>\n",
              "      <td>4.000000</td>\n",
              "      <td>5.000000</td>\n",
              "      <td>23.000000</td>\n",
              "      <td>27.000000</td>\n",
              "      <td>27.000000</td>\n",
              "      <td>24.000000</td>\n",
              "      <td>8.000000</td>\n",
              "      <td>23.000000</td>\n",
              "      <td>27.000000</td>\n",
              "      <td>27.000000</td>\n",
              "      <td>13.500000</td>\n",
              "      <td>2.000000</td>\n",
              "      <td>4.000000</td>\n",
              "      <td>2.000000</td>\n",
              "      <td>5.000000</td>\n",
              "      <td>2.000000</td>\n",
              "      <td>4.000000</td>\n",
              "      <td>1.000000</td>\n",
              "      <td>1.000000</td>\n",
              "      <td>6.000000</td>\n",
              "      <td>5.000000</td>\n",
              "      <td>5.000000</td>\n",
              "      <td>1.000000</td>\n",
              "      <td>1.000000</td>\n",
              "      <td>10.000000</td>\n",
              "      <td>5.00000</td>\n",
              "      <td>6.000000</td>\n",
              "      <td>7.000000</td>\n",
              "      <td>5978.000000</td>\n",
              "      <td>42.140000</td>\n",
              "      <td>86400.000000</td>\n",
              "      <td>132.000000</td>\n",
              "      <td>1611.000000</td>\n",
              "      <td>2039.000000</td>\n",
              "      <td>65.000000</td>\n",
              "    </tr>\n",
              "    <tr>\n",
              "      <th>max</th>\n",
              "      <td>2018.0</td>\n",
              "      <td>99999.000000</td>\n",
              "      <td>55115.000000</td>\n",
              "      <td>5.511510e+10</td>\n",
              "      <td>8.000000</td>\n",
              "      <td>72.000000</td>\n",
              "      <td>2.000000</td>\n",
              "      <td>4.000000</td>\n",
              "      <td>32.000000</td>\n",
              "      <td>2.000000</td>\n",
              "      <td>1111.000000</td>\n",
              "      <td>1111.000000</td>\n",
              "      <td>1111.000000</td>\n",
              "      <td>5.000050e+08</td>\n",
              "      <td>3.000000</td>\n",
              "      <td>1111.000000</td>\n",
              "      <td>1111.000000</td>\n",
              "      <td>1111.000000</td>\n",
              "      <td>1111.000000</td>\n",
              "      <td>2.000000</td>\n",
              "      <td>3.000000</td>\n",
              "      <td>1111.000000</td>\n",
              "      <td>1111.000000</td>\n",
              "      <td>1.197064e+07</td>\n",
              "      <td>1111.000000</td>\n",
              "      <td>1111.000000</td>\n",
              "      <td>14.000000</td>\n",
              "      <td>14.000000</td>\n",
              "      <td>14.000000</td>\n",
              "      <td>14.000000</td>\n",
              "      <td>14.000000</td>\n",
              "      <td>14.000000</td>\n",
              "      <td>14.000000</td>\n",
              "      <td>14.000000</td>\n",
              "      <td>14.000000</td>\n",
              "      <td>14.0</td>\n",
              "      <td>3.000000</td>\n",
              "      <td>4.000000</td>\n",
              "      <td>44.000000</td>\n",
              "      <td>44.000000</td>\n",
              "      <td>44.000000</td>\n",
              "      <td>44.000000</td>\n",
              "      <td>44.000000</td>\n",
              "      <td>44.000000</td>\n",
              "      <td>44.000000</td>\n",
              "      <td>44.000000</td>\n",
              "      <td>44.000000</td>\n",
              "      <td>43.000000</td>\n",
              "      <td>3.000000</td>\n",
              "      <td>4.000000</td>\n",
              "      <td>6.000000</td>\n",
              "      <td>6.000000</td>\n",
              "      <td>3.000000</td>\n",
              "      <td>4.000000</td>\n",
              "      <td>1111.000000</td>\n",
              "      <td>1111.000000</td>\n",
              "      <td>1111.000000</td>\n",
              "      <td>5.000000</td>\n",
              "      <td>5.000000</td>\n",
              "      <td>5.000000</td>\n",
              "      <td>5.000000</td>\n",
              "      <td>1111.000000</td>\n",
              "      <td>9.00000</td>\n",
              "      <td>9.000000</td>\n",
              "      <td>9.000000</td>\n",
              "      <td>28926.000000</td>\n",
              "      <td>100.000000</td>\n",
              "      <td>123400.000000</td>\n",
              "      <td>347.000000</td>\n",
              "      <td>4682.000000</td>\n",
              "      <td>6541.000000</td>\n",
              "      <td>76.000000</td>\n",
              "    </tr>\n",
              "  </tbody>\n",
              "</table>\n",
              "</div>"
            ],
            "text/plain": [
              "       activity_year  ...  tract_median_age_of_housing_units\n",
              "count       537081.0  ...                      537081.000000\n",
              "mean          2018.0  ...                          54.049870\n",
              "std              0.0  ...                          15.820187\n",
              "min           2018.0  ...                           0.000000\n",
              "25%           2018.0  ...                          44.000000\n",
              "50%           2018.0  ...                          55.000000\n",
              "75%           2018.0  ...                          65.000000\n",
              "max           2018.0  ...                          76.000000\n",
              "\n",
              "[8 rows x 72 columns]"
            ]
          },
          "metadata": {
            "tags": []
          },
          "execution_count": 22
        }
      ]
    },
    {
      "cell_type": "code",
      "metadata": {
        "id": "qawEl9u91jg8",
        "colab_type": "code",
        "colab": {}
      },
      "source": [
        "null_value = hmda.isnull().any()"
      ],
      "execution_count": 0,
      "outputs": []
    },
    {
      "cell_type": "code",
      "metadata": {
        "id": "o-crDeZa2yYe",
        "colab_type": "code",
        "outputId": "13c49520-4b29-4d19-d8ed-6db86c7ee58a",
        "colab": {
          "base_uri": "https://localhost:8080/",
          "height": 881
        }
      },
      "source": [
        "null_value[null_value==True]"
      ],
      "execution_count": 0,
      "outputs": [
        {
          "output_type": "execute_result",
          "data": {
            "text/plain": [
              "county_code                     True\n",
              "census_tract                    True\n",
              "conforming_loan_limit           True\n",
              "loan_to_value_ratio             True\n",
              "interest_rate                   True\n",
              "rate_spread                     True\n",
              "total_loan_costs                True\n",
              "total_points_and_fees           True\n",
              "origination_charges             True\n",
              "discount_points                 True\n",
              "lender_credits                  True\n",
              "loan_term                       True\n",
              "prepayment_penalty_term         True\n",
              "intro_rate_period               True\n",
              "property_value                  True\n",
              "multifamily_affordable_units    True\n",
              "income                          True\n",
              "debt_to_income_ratio            True\n",
              "applicant_ethnicity-1           True\n",
              "applicant_ethnicity-2           True\n",
              "applicant_ethnicity-3           True\n",
              "applicant_ethnicity-4           True\n",
              "applicant_ethnicity-5           True\n",
              "co-applicant_ethnicity-1        True\n",
              "co-applicant_ethnicity-2        True\n",
              "co-applicant_ethnicity-3        True\n",
              "co-applicant_ethnicity-4        True\n",
              "co-applicant_ethnicity-5        True\n",
              "applicant_race-1                True\n",
              "applicant_race-2                True\n",
              "applicant_race-3                True\n",
              "applicant_race-4                True\n",
              "applicant_race-5                True\n",
              "co-applicant_race-1             True\n",
              "co-applicant_race-2             True\n",
              "co-applicant_race-3             True\n",
              "co-applicant_race-4             True\n",
              "co-applicant_race-5             True\n",
              "applicant_age_above_62          True\n",
              "co-applicant_age_above_62       True\n",
              "aus-2                           True\n",
              "aus-3                           True\n",
              "aus-4                           True\n",
              "aus-5                           True\n",
              "denial_reason-2                 True\n",
              "denial_reason-3                 True\n",
              "denial_reason-4                 True\n",
              "dtype: bool"
            ]
          },
          "metadata": {
            "tags": []
          },
          "execution_count": 7
        }
      ]
    },
    {
      "cell_type": "markdown",
      "metadata": {
        "id": "OgFCUwDemiMq",
        "colab_type": "text"
      },
      "source": [
        "#Feature Engineering"
      ]
    },
    {
      "cell_type": "code",
      "metadata": {
        "id": "ytIhGy6QolT-",
        "colab_type": "code",
        "colab": {}
      },
      "source": [
        "loan_originated = hmda.loc[hmda['action_taken']==1,:]\n",
        "application_denied = hmda.loc[hmda['action_taken']==3,:]\n",
        "new_hmda = pd.concat([loan_originated,application_denied])"
      ],
      "execution_count": 0,
      "outputs": []
    },
    {
      "cell_type": "code",
      "metadata": {
        "id": "gxC3K7AkVuY8",
        "colab_type": "code",
        "outputId": "df7d7435-dc0c-4ddd-d65c-9f427406e904",
        "colab": {
          "base_uri": "https://localhost:8080/",
          "height": 107
        }
      },
      "source": [
        "app_sex = hmda['applicant_sex']\n",
        "app_sex.loc[app_sex==4,] = 3\n",
        "app_sex.loc[app_sex==5,] = 3\n",
        "app_sex.loc[app_sex==6,] = 3"
      ],
      "execution_count": 0,
      "outputs": [
        {
          "output_type": "stream",
          "text": [
            "/usr/local/lib/python3.6/dist-packages/pandas/core/indexing.py:205: SettingWithCopyWarning: \n",
            "A value is trying to be set on a copy of a slice from a DataFrame\n",
            "\n",
            "See the caveats in the documentation: http://pandas.pydata.org/pandas-docs/stable/user_guide/indexing.html#returning-a-view-versus-a-copy\n",
            "  self._setitem_with_indexer(indexer, value)\n"
          ],
          "name": "stderr"
        }
      ]
    },
    {
      "cell_type": "code",
      "metadata": {
        "id": "rJf4pwZ5ZO9F",
        "colab_type": "code",
        "outputId": "70430cd9-4153-4ce8-ca1c-8c8ba41564c8",
        "colab": {
          "base_uri": "https://localhost:8080/",
          "height": 107
        }
      },
      "source": [
        "coapp_sex = hmda['co-applicant_sex']\n",
        "coapp_sex.loc[coapp_sex==4,] = 3\n",
        "coapp_sex.loc[coapp_sex==5,] = 3\n",
        "coapp_sex.loc[coapp_sex==6,] = 3"
      ],
      "execution_count": 0,
      "outputs": [
        {
          "output_type": "stream",
          "text": [
            "/usr/local/lib/python3.6/dist-packages/pandas/core/indexing.py:205: SettingWithCopyWarning: \n",
            "A value is trying to be set on a copy of a slice from a DataFrame\n",
            "\n",
            "See the caveats in the documentation: http://pandas.pydata.org/pandas-docs/stable/user_guide/indexing.html#returning-a-view-versus-a-copy\n",
            "  self._setitem_with_indexer(indexer, value)\n"
          ],
          "name": "stderr"
        }
      ]
    },
    {
      "cell_type": "code",
      "metadata": {
        "id": "8lVcK5bv78KG",
        "colab_type": "code",
        "outputId": "a8393f0e-c9dc-4d5b-d17d-0ec99a439ae2",
        "colab": {
          "base_uri": "https://localhost:8080/",
          "height": 107
        }
      },
      "source": [
        "denial_reason = hmda['denial_reason-1']\n",
        "denial_reason.loc[denial_reason==10,] = None\n",
        "denial_reason.loc[denial_reason==1111,] = 8"
      ],
      "execution_count": 0,
      "outputs": [
        {
          "output_type": "stream",
          "text": [
            "/usr/local/lib/python3.6/dist-packages/pandas/core/indexing.py:205: SettingWithCopyWarning: \n",
            "A value is trying to be set on a copy of a slice from a DataFrame\n",
            "\n",
            "See the caveats in the documentation: http://pandas.pydata.org/pandas-docs/stable/user_guide/indexing.html#returning-a-view-versus-a-copy\n",
            "  self._setitem_with_indexer(indexer, value)\n"
          ],
          "name": "stderr"
        }
      ]
    },
    {
      "cell_type": "code",
      "metadata": {
        "colab_type": "code",
        "outputId": "0267ff50-1c99-45b5-9c15-7ffd5809acdf",
        "id": "ZyzkQeGhth6k",
        "colab": {
          "base_uri": "https://localhost:8080/",
          "height": 125
        }
      },
      "source": [
        "loan_originated.loc[loan_originated['loan_purpose']==31,'loan_purpose'] = 'Refinancing'\n",
        "loan_originated.loc[loan_originated['loan_purpose']==32,'loan_purpose'] = 'Cash-out refinancing'\n",
        "loan_originated.loc[loan_originated['loan_purpose']==1,'loan_purpose'] = 'Home purchase'\n",
        "loan_originated.loc[loan_originated['loan_purpose']==2,'loan_purpose'] = 'Home improvement'\n",
        "loan_originated.loc[loan_originated['loan_purpose']==4,'loan_purpose'] = 'Other purpose'\n",
        "loan_originated.loc[loan_originated['loan_purpose']==5,'loan_purpose'] = 'Not applicable'"
      ],
      "execution_count": 0,
      "outputs": [
        {
          "output_type": "stream",
          "text": [
            "/usr/local/lib/python3.6/dist-packages/pandas/core/indexing.py:494: SettingWithCopyWarning: \n",
            "A value is trying to be set on a copy of a slice from a DataFrame.\n",
            "Try using .loc[row_indexer,col_indexer] = value instead\n",
            "\n",
            "See the caveats in the documentation: http://pandas.pydata.org/pandas-docs/stable/user_guide/indexing.html#returning-a-view-versus-a-copy\n",
            "  self.obj[item] = s\n"
          ],
          "name": "stderr"
        }
      ]
    },
    {
      "cell_type": "code",
      "metadata": {
        "id": "0VW0ixdpuS4v",
        "colab_type": "code",
        "outputId": "7de59a87-3b4f-4681-81a2-24a2d0381553",
        "colab": {
          "base_uri": "https://localhost:8080/",
          "height": 125
        }
      },
      "source": [
        "application_denied.loc[application_denied['loan_purpose']==31,'loan_purpose'] = 'Refinancing'\n",
        "application_denied.loc[application_denied['loan_purpose']==32,'loan_purpose'] = 'Cash-out refinancing'\n",
        "application_denied.loc[application_denied['loan_purpose']==1,'loan_purpose'] = 'Home purchase'\n",
        "application_denied.loc[application_denied['loan_purpose']==2,'loan_purpose'] = 'Home improvement'\n",
        "application_denied.loc[application_denied['loan_purpose']==4,'loan_purpose'] = 'Other purpose'\n",
        "application_denied.loc[application_denied['loan_purpose']==5,'loan_purpose'] = 'Not applicable'"
      ],
      "execution_count": 0,
      "outputs": [
        {
          "output_type": "stream",
          "text": [
            "/usr/local/lib/python3.6/dist-packages/pandas/core/indexing.py:494: SettingWithCopyWarning: \n",
            "A value is trying to be set on a copy of a slice from a DataFrame.\n",
            "Try using .loc[row_indexer,col_indexer] = value instead\n",
            "\n",
            "See the caveats in the documentation: http://pandas.pydata.org/pandas-docs/stable/user_guide/indexing.html#returning-a-view-versus-a-copy\n",
            "  self.obj[item] = s\n"
          ],
          "name": "stderr"
        }
      ]
    },
    {
      "cell_type": "code",
      "metadata": {
        "id": "qJpRY03tTeAg",
        "colab_type": "code",
        "outputId": "c6aee6c3-1ea8-40ac-9d3c-72ddd01aff0c",
        "colab": {
          "base_uri": "https://localhost:8080/",
          "height": 125
        }
      },
      "source": [
        "age2loan = hmda[hmda['applicant_age'] != '8888']\n",
        "age2loan.loc[age2loan['applicant_age'] == '<25','applicant_age'] = 1\n",
        "age2loan.loc[age2loan['applicant_age'] == '25-34','applicant_age'] = 2\n",
        "age2loan.loc[age2loan['applicant_age'] == '35-44','applicant_age'] = 3\n",
        "age2loan.loc[age2loan['applicant_age'] == '45-54','applicant_age'] = 4\n",
        "age2loan.loc[age2loan['applicant_age'] == '55-64','applicant_age'] = 5\n",
        "age2loan.loc[age2loan['applicant_age'] == '65-74','applicant_age'] = 6\n",
        "age2loan.loc[age2loan['applicant_age'] == '>74','applicant_age'] = 7"
      ],
      "execution_count": 0,
      "outputs": [
        {
          "output_type": "stream",
          "text": [
            "/usr/local/lib/python3.6/dist-packages/pandas/core/indexing.py:494: SettingWithCopyWarning: \n",
            "A value is trying to be set on a copy of a slice from a DataFrame.\n",
            "Try using .loc[row_indexer,col_indexer] = value instead\n",
            "\n",
            "See the caveats in the documentation: http://pandas.pydata.org/pandas-docs/stable/user_guide/indexing.html#returning-a-view-versus-a-copy\n",
            "  self.obj[item] = s\n"
          ],
          "name": "stderr"
        }
      ]
    },
    {
      "cell_type": "code",
      "metadata": {
        "id": "oSpkVzzhJoTX",
        "colab_type": "code",
        "outputId": "4e594643-9232-4432-e19d-d3b736a6213c",
        "colab": {
          "base_uri": "https://localhost:8080/",
          "height": 125
        }
      },
      "source": [
        "loan_originated.loc[loan_originated['derived_race']=='Joint','derived_race'] = 'Other'\n",
        "loan_originated.loc[loan_originated['derived_race']=='Native Hawaiian or Other Pacific Islander','derived_race'] = 'Other'\n",
        "loan_originated.loc[loan_originated['derived_race']=='American Indian or Alaska Native','derived_race'] = 'Other'\n",
        "loan_originated.loc[loan_originated['derived_race']=='2 or more minority races','derived_race'] = 'Other'\n",
        "loan_originated.loc[loan_originated['derived_race']=='Free Form Text Only','derived_race'] = 'Other'"
      ],
      "execution_count": 0,
      "outputs": [
        {
          "output_type": "stream",
          "text": [
            "/usr/local/lib/python3.6/dist-packages/pandas/core/indexing.py:494: SettingWithCopyWarning: \n",
            "A value is trying to be set on a copy of a slice from a DataFrame.\n",
            "Try using .loc[row_indexer,col_indexer] = value instead\n",
            "\n",
            "See the caveats in the documentation: http://pandas.pydata.org/pandas-docs/stable/user_guide/indexing.html#returning-a-view-versus-a-copy\n",
            "  self.obj[item] = s\n"
          ],
          "name": "stderr"
        }
      ]
    },
    {
      "cell_type": "code",
      "metadata": {
        "id": "Eqm0h6dhLHf-",
        "colab_type": "code",
        "outputId": "00e38be0-f81b-4d9f-86f1-b58df94a184a",
        "colab": {
          "base_uri": "https://localhost:8080/",
          "height": 125
        }
      },
      "source": [
        "application_denied.loc[application_denied['derived_race']=='Joint','derived_race'] = 'Other'\n",
        "application_denied.loc[application_denied['derived_race']=='Native Hawaiian or Other Pacific Islander','derived_race'] = 'Other'\n",
        "application_denied.loc[application_denied['derived_race']=='American Indian or Alaska Native','derived_race'] = 'Other'\n",
        "application_denied.loc[application_denied['derived_race']=='2 or more minority races','derived_race'] = 'Other'\n",
        "application_denied.loc[application_denied['derived_race']=='Free Form Text Only','derived_race'] = 'Other'"
      ],
      "execution_count": 0,
      "outputs": [
        {
          "output_type": "stream",
          "text": [
            "/usr/local/lib/python3.6/dist-packages/pandas/core/indexing.py:494: SettingWithCopyWarning: \n",
            "A value is trying to be set on a copy of a slice from a DataFrame.\n",
            "Try using .loc[row_indexer,col_indexer] = value instead\n",
            "\n",
            "See the caveats in the documentation: http://pandas.pydata.org/pandas-docs/stable/user_guide/indexing.html#returning-a-view-versus-a-copy\n",
            "  self.obj[item] = s\n"
          ],
          "name": "stderr"
        }
      ]
    },
    {
      "cell_type": "code",
      "metadata": {
        "id": "yvx-rxsQlEeY",
        "colab_type": "code",
        "outputId": "6badda13-4b2a-447e-c769-846cc2140774",
        "colab": {
          "base_uri": "https://localhost:8080/",
          "height": 125
        }
      },
      "source": [
        "loan_originated.loc[loan_originated['derived_ethnicity']=='Joint','derived_ethnicity'] = 'Other'\n",
        "loan_originated.loc[loan_originated['derived_ethnicity']=='Free Form Text Only','derived_ethnicity'] = 'Other'\n",
        "application_denied.loc[application_denied['derived_ethnicity']=='Joint','derived_ethnicity'] = 'Other'\n",
        "application_denied.loc[application_denied['derived_ethnicity']=='Free Form Text Only','derived_ethnicity'] = 'Other'"
      ],
      "execution_count": 0,
      "outputs": [
        {
          "output_type": "stream",
          "text": [
            "/usr/local/lib/python3.6/dist-packages/pandas/core/indexing.py:494: SettingWithCopyWarning: \n",
            "A value is trying to be set on a copy of a slice from a DataFrame.\n",
            "Try using .loc[row_indexer,col_indexer] = value instead\n",
            "\n",
            "See the caveats in the documentation: http://pandas.pydata.org/pandas-docs/stable/user_guide/indexing.html#returning-a-view-versus-a-copy\n",
            "  self.obj[item] = s\n"
          ],
          "name": "stderr"
        }
      ]
    },
    {
      "cell_type": "code",
      "metadata": {
        "id": "YYArQefsNg0F",
        "colab_type": "code",
        "outputId": "143ac449-9905-467a-8b5d-11f59b4ae70f",
        "colab": {
          "base_uri": "https://localhost:8080/",
          "height": 125
        }
      },
      "source": [
        "loan_originated.loc[loan_originated['debt_to_income_ratio']=='36','debt_to_income_ratio'] = '36%-42%'\n",
        "loan_originated.loc[loan_originated['debt_to_income_ratio']=='37','debt_to_income_ratio'] = '36%-42%'\n",
        "loan_originated.loc[loan_originated['debt_to_income_ratio']=='38','debt_to_income_ratio'] = '36%-42%'\n",
        "loan_originated.loc[loan_originated['debt_to_income_ratio']=='39','debt_to_income_ratio'] = '36%-42%'\n",
        "loan_originated.loc[loan_originated['debt_to_income_ratio']=='40','debt_to_income_ratio'] = '36%-42%'\n",
        "loan_originated.loc[loan_originated['debt_to_income_ratio']=='41','debt_to_income_ratio'] = '36%-42%'\n",
        "loan_originated.loc[loan_originated['debt_to_income_ratio']=='42','debt_to_income_ratio'] = '36%-42%'\n",
        "loan_originated.loc[loan_originated['debt_to_income_ratio']=='43','debt_to_income_ratio'] = '43%-49%'\n",
        "loan_originated.loc[loan_originated['debt_to_income_ratio']=='44','debt_to_income_ratio'] = '43%-49%'\n",
        "loan_originated.loc[loan_originated['debt_to_income_ratio']=='45','debt_to_income_ratio'] = '43%-49%'\n",
        "loan_originated.loc[loan_originated['debt_to_income_ratio']=='46','debt_to_income_ratio'] = '43%-49%'\n",
        "loan_originated.loc[loan_originated['debt_to_income_ratio']=='47','debt_to_income_ratio'] = '43%-49%'\n",
        "loan_originated.loc[loan_originated['debt_to_income_ratio']=='48','debt_to_income_ratio'] = '43%-49%'\n",
        "loan_originated.loc[loan_originated['debt_to_income_ratio']=='49','debt_to_income_ratio'] = '43%-49%'\n",
        "loan_originated.loc[loan_originated['debt_to_income_ratio']=='20%-<30%','debt_to_income_ratio'] = '20%-29%'\n",
        "loan_originated.loc[loan_originated['debt_to_income_ratio']=='30%-<36%','debt_to_income_ratio'] = '30%-35%'\n",
        "loan_originated.loc[loan_originated['debt_to_income_ratio']=='Exempt','debt_to_income_ratio'] = None"
      ],
      "execution_count": 0,
      "outputs": [
        {
          "output_type": "stream",
          "text": [
            "/usr/local/lib/python3.6/dist-packages/pandas/core/indexing.py:494: SettingWithCopyWarning: \n",
            "A value is trying to be set on a copy of a slice from a DataFrame.\n",
            "Try using .loc[row_indexer,col_indexer] = value instead\n",
            "\n",
            "See the caveats in the documentation: http://pandas.pydata.org/pandas-docs/stable/user_guide/indexing.html#returning-a-view-versus-a-copy\n",
            "  self.obj[item] = s\n"
          ],
          "name": "stderr"
        }
      ]
    },
    {
      "cell_type": "code",
      "metadata": {
        "id": "YuXamIH0PCQh",
        "colab_type": "code",
        "outputId": "e449fcb5-8201-4dd6-c63f-cc3277ad123b",
        "colab": {
          "base_uri": "https://localhost:8080/",
          "height": 125
        }
      },
      "source": [
        "application_denied.loc[application_denied['debt_to_income_ratio']=='36','debt_to_income_ratio'] = '36%-42%'\n",
        "application_denied.loc[application_denied['debt_to_income_ratio']=='37','debt_to_income_ratio'] = '36%-42%'\n",
        "application_denied.loc[application_denied['debt_to_income_ratio']=='38','debt_to_income_ratio'] = '36%-42%'\n",
        "application_denied.loc[application_denied['debt_to_income_ratio']=='39','debt_to_income_ratio'] = '36%-42%'\n",
        "application_denied.loc[application_denied['debt_to_income_ratio']=='40','debt_to_income_ratio'] = '36%-42%'\n",
        "application_denied.loc[application_denied['debt_to_income_ratio']=='41','debt_to_income_ratio'] = '36%-42%'\n",
        "application_denied.loc[application_denied['debt_to_income_ratio']=='42','debt_to_income_ratio'] = '36%-42%'\n",
        "application_denied.loc[application_denied['debt_to_income_ratio']=='43','debt_to_income_ratio'] = '43%-49%'\n",
        "application_denied.loc[application_denied['debt_to_income_ratio']=='44','debt_to_income_ratio'] = '43%-49%'\n",
        "application_denied.loc[application_denied['debt_to_income_ratio']=='45','debt_to_income_ratio'] = '43%-49%'\n",
        "application_denied.loc[application_denied['debt_to_income_ratio']=='46','debt_to_income_ratio'] = '43%-49%'\n",
        "application_denied.loc[application_denied['debt_to_income_ratio']=='47','debt_to_income_ratio'] = '43%-49%'\n",
        "application_denied.loc[application_denied['debt_to_income_ratio']=='48','debt_to_income_ratio'] = '43%-49%'\n",
        "application_denied.loc[application_denied['debt_to_income_ratio']=='49','debt_to_income_ratio'] = '43%-49%'\n",
        "application_denied.loc[application_denied['debt_to_income_ratio']=='20%-<30%','debt_to_income_ratio'] = '20%-29%'\n",
        "application_denied.loc[application_denied['debt_to_income_ratio']=='30%-<36%','debt_to_income_ratio'] = '30%-35%'\n",
        "application_denied.loc[application_denied['debt_to_income_ratio']=='Exempt','debt_to_income_ratio'] = None"
      ],
      "execution_count": 0,
      "outputs": [
        {
          "output_type": "stream",
          "text": [
            "/usr/local/lib/python3.6/dist-packages/pandas/core/indexing.py:494: SettingWithCopyWarning: \n",
            "A value is trying to be set on a copy of a slice from a DataFrame.\n",
            "Try using .loc[row_indexer,col_indexer] = value instead\n",
            "\n",
            "See the caveats in the documentation: http://pandas.pydata.org/pandas-docs/stable/user_guide/indexing.html#returning-a-view-versus-a-copy\n",
            "  self.obj[item] = s\n"
          ],
          "name": "stderr"
        }
      ]
    },
    {
      "cell_type": "code",
      "metadata": {
        "id": "b6_QV_v8XdhP",
        "colab_type": "code",
        "outputId": "44f96cd9-e03a-40fd-d81b-8a54e1469c8b",
        "colab": {
          "base_uri": "https://localhost:8080/",
          "height": 125
        }
      },
      "source": [
        "loan_originated.loc[loan_originated['debt_to_income_ratio']=='<20%','debt_to_income_ratio'] = 1\n",
        "loan_originated.loc[loan_originated['debt_to_income_ratio']=='20%-29%','debt_to_income_ratio'] = 2\n",
        "loan_originated.loc[loan_originated['debt_to_income_ratio']=='30%-35%','debt_to_income_ratio'] = 3\n",
        "loan_originated.loc[loan_originated['debt_to_income_ratio']=='36%-42%','debt_to_income_ratio'] = 4\n",
        "loan_originated.loc[loan_originated['debt_to_income_ratio']=='43%-49%','debt_to_income_ratio'] = 5\n",
        "loan_originated.loc[loan_originated['debt_to_income_ratio']=='50%-60%','debt_to_income_ratio'] = 6\n",
        "loan_originated.loc[loan_originated['debt_to_income_ratio']=='>60%','debt_to_income_ratio'] = 7"
      ],
      "execution_count": 0,
      "outputs": [
        {
          "output_type": "stream",
          "text": [
            "/usr/local/lib/python3.6/dist-packages/pandas/core/indexing.py:494: SettingWithCopyWarning: \n",
            "A value is trying to be set on a copy of a slice from a DataFrame.\n",
            "Try using .loc[row_indexer,col_indexer] = value instead\n",
            "\n",
            "See the caveats in the documentation: http://pandas.pydata.org/pandas-docs/stable/user_guide/indexing.html#returning-a-view-versus-a-copy\n",
            "  self.obj[item] = s\n"
          ],
          "name": "stderr"
        }
      ]
    },
    {
      "cell_type": "code",
      "metadata": {
        "id": "ayk_Q-jCX81G",
        "colab_type": "code",
        "outputId": "d4e87bdd-a4f5-4156-95cc-f5cde705f6ff",
        "colab": {
          "base_uri": "https://localhost:8080/",
          "height": 125
        }
      },
      "source": [
        "application_denied.loc[application_denied['debt_to_income_ratio']=='<20%','debt_to_income_ratio'] = 1\n",
        "application_denied.loc[application_denied['debt_to_income_ratio']=='20%-29%','debt_to_income_ratio'] = 2\n",
        "application_denied.loc[application_denied['debt_to_income_ratio']=='30%-35%','debt_to_income_ratio'] = 3\n",
        "application_denied.loc[application_denied['debt_to_income_ratio']=='36%-42%','debt_to_income_ratio'] = 4\n",
        "application_denied.loc[application_denied['debt_to_income_ratio']=='43%-49%','debt_to_income_ratio'] = 5\n",
        "application_denied.loc[application_denied['debt_to_income_ratio']=='50%-60%','debt_to_income_ratio'] = 6\n",
        "application_denied.loc[application_denied['debt_to_income_ratio']=='>60%','debt_to_income_ratio'] = 7"
      ],
      "execution_count": 0,
      "outputs": [
        {
          "output_type": "stream",
          "text": [
            "/usr/local/lib/python3.6/dist-packages/pandas/core/indexing.py:494: SettingWithCopyWarning: \n",
            "A value is trying to be set on a copy of a slice from a DataFrame.\n",
            "Try using .loc[row_indexer,col_indexer] = value instead\n",
            "\n",
            "See the caveats in the documentation: http://pandas.pydata.org/pandas-docs/stable/user_guide/indexing.html#returning-a-view-versus-a-copy\n",
            "  self.obj[item] = s\n"
          ],
          "name": "stderr"
        }
      ]
    },
    {
      "cell_type": "markdown",
      "metadata": {
        "id": "nInKBh2Fmud7",
        "colab_type": "text"
      },
      "source": [
        "#EDA"
      ]
    },
    {
      "cell_type": "code",
      "metadata": {
        "id": "1STmpQFUVUcZ",
        "colab_type": "code",
        "outputId": "96a0dd02-2ad4-469f-ac79-76b5d36c830d",
        "colab": {
          "base_uri": "https://localhost:8080/",
          "height": 354
        }
      },
      "source": [
        "fig, ax = plt.subplots(figsize=(10, 5))\n",
        "plt.hist([app_sex, coapp_sex],bins=3,label=['applicant', 'co-applicant'])\n",
        "plt.legend(loc='upper right') \n",
        "plt.xticks(np.arange(5), ('','Male', 'Female', 'Other',''))\n",
        "plt.title('applicant sex distribution')"
      ],
      "execution_count": 0,
      "outputs": [
        {
          "output_type": "execute_result",
          "data": {
            "text/plain": [
              "Text(0.5, 1.0, 'applicant sex distribution')"
            ]
          },
          "metadata": {
            "tags": []
          },
          "execution_count": 8
        },
        {
          "output_type": "display_data",
          "data": {
            "image/png": "[encoded data removed]",
            "text/plain": [
              "<Figure size 720x360 with 1 Axes>"
            ]
          },
          "metadata": {
            "tags": []
          }
        }
      ]
    },
    {
      "cell_type": "code",
      "metadata": {
        "id": "UHw7xOTS-Ajw",
        "colab_type": "code",
        "outputId": "8aa4c847-d2db-4fea-8bcb-27ff2437c1c8",
        "colab": {
          "base_uri": "https://localhost:8080/",
          "height": 495
        }
      },
      "source": [
        "fig, ax = plt.subplots(figsize=(12, 5))\n",
        "sns.distplot(hmda['applicant_sex'], bins=10).set_title('applicant sex')\n",
        "plt.xticks(np.arange(7), (' ', 'Male', 'Female', 'Information not provided', 'Not applicable',' ','Applicant selected both male and female'))"
      ],
      "execution_count": 0,
      "outputs": [
        {
          "output_type": "execute_result",
          "data": {
            "text/plain": [
              "([<matplotlib.axis.XTick at 0x7f3b0328dc88>,\n",
              "  <matplotlib.axis.XTick at 0x7f3b0328d1d0>,\n",
              "  <matplotlib.axis.XTick at 0x7f3b3456be10>,\n",
              "  <matplotlib.axis.XTick at 0x7f3b0324c6d8>,\n",
              "  <matplotlib.axis.XTick at 0x7f3b031eddd8>,\n",
              "  <matplotlib.axis.XTick at 0x7f3b031f92e8>,\n",
              "  <matplotlib.axis.XTick at 0x7f3b031f97b8>],\n",
              " <a list of 7 Text xticklabel objects>)"
            ]
          },
          "metadata": {
            "tags": []
          },
          "execution_count": 9
        },
        {
          "output_type": "display_data",
          "data": {
            "image/png": "[encoded data removed]",
            "text/plain": [
              "<Figure size 864x360 with 1 Axes>"
            ]
          },
          "metadata": {
            "tags": []
          }
        }
      ]
    },
    {
      "cell_type": "code",
      "metadata": {
        "id": "gATdRze3eHPF",
        "colab_type": "code",
        "outputId": "2192ae72-739a-4520-94b8-5dfe302027be",
        "colab": {
          "base_uri": "https://localhost:8080/",
          "height": 299
        }
      },
      "source": [
        "plt.hist(hmda['applicant_age'], bins=15)\n",
        "plt.title('applicant age distribution')"
      ],
      "execution_count": 0,
      "outputs": [
        {
          "output_type": "execute_result",
          "data": {
            "text/plain": [
              "Text(0.5, 1.0, 'applicant age distribution')"
            ]
          },
          "metadata": {
            "tags": []
          },
          "execution_count": 11
        },
        {
          "output_type": "display_data",
          "data": {
            "image/png": "[encoded data removed]",
            "text/plain": [
              "<Figure size 432x288 with 1 Axes>"
            ]
          },
          "metadata": {
            "tags": []
          }
        }
      ]
    },
    {
      "cell_type": "code",
      "metadata": {
        "colab_type": "code",
        "outputId": "930303fc-103d-45e0-c6b6-459088b7adcc",
        "id": "03CsZ5zUckKk",
        "colab": {
          "base_uri": "https://localhost:8080/",
          "height": 357
        }
      },
      "source": [
        "fig, ax = plt.subplots(figsize=(10, 5))\n",
        "plt.hist([loan_originated['derived_race'], application_denied['derived_race']],bins=5, label=['loan approved', 'loan denied'])\n",
        "plt.legend(loc='upper right') \n",
        "plt.title('derived race distribution')\n",
        "plt.xticks(fontsize=12)"
      ],
      "execution_count": 0,
      "outputs": [
        {
          "output_type": "execute_result",
          "data": {
            "text/plain": [
              "([0, 1, 2, 3, 4], <a list of 5 Text xticklabel objects>)"
            ]
          },
          "metadata": {
            "tags": []
          },
          "execution_count": 13
        },
        {
          "output_type": "display_data",
          "data": {
            "image/png": "[encoded data removed]",
            "text/plain": [
              "<Figure size 720x360 with 1 Axes>"
            ]
          },
          "metadata": {
            "tags": []
          }
        }
      ]
    },
    {
      "cell_type": "code",
      "metadata": {
        "id": "eghGM_3u7eiz",
        "colab_type": "code",
        "outputId": "5ed1072f-767a-4c8a-d387-5060d72f2721",
        "colab": {
          "base_uri": "https://localhost:8080/",
          "height": 422
        }
      },
      "source": [
        "fig, ax = plt.subplots(figsize=(20, 5))\n",
        "plt.hist(denial_reason.dropna(),bins=20)\n",
        "plt.title('denial reason distribution')\n",
        "plt.xticks(np.arange(10), ('','Debt-to-income ratio', 'Employment history', 'Credit history', 'Collateral', 'Insufficient cash', 'Unverifiable information', 'Credit application incomplete', 'Mortgage insurance denied','Other'))\n",
        "plt.xticks(rotation=20)\n",
        "plt.xticks(fontsize=13)"
      ],
      "execution_count": 0,
      "outputs": [
        {
          "output_type": "execute_result",
          "data": {
            "text/plain": [
              "(array([0, 1, 2, 3, 4, 5, 6, 7, 8, 9]), <a list of 10 Text xticklabel objects>)"
            ]
          },
          "metadata": {
            "tags": []
          },
          "execution_count": 59
        },
        {
          "output_type": "display_data",
          "data": {
            "image/png": "[encoded data removed]",
            "text/plain": [
              "<Figure size 1440x360 with 1 Axes>"
            ]
          },
          "metadata": {
            "tags": []
          }
        }
      ]
    },
    {
      "cell_type": "code",
      "metadata": {
        "id": "JVpZSiT0lZEW",
        "colab_type": "code",
        "outputId": "fc138759-908c-4c31-ca6b-9892e64724b2",
        "colab": {
          "base_uri": "https://localhost:8080/",
          "height": 357
        }
      },
      "source": [
        "fig, ax = plt.subplots(figsize=(8, 5))\n",
        "plt.hist([loan_originated['derived_ethnicity'], application_denied['derived_ethnicity']],bins=4, label=['loan approved', 'loan denied'])\n",
        "plt.legend(loc='upper right') \n",
        "plt.title('derived ethnicity distribution')\n",
        "plt.xticks(fontsize=12)"
      ],
      "execution_count": 0,
      "outputs": [
        {
          "output_type": "execute_result",
          "data": {
            "text/plain": [
              "([0, 1, 2, 3], <a list of 4 Text xticklabel objects>)"
            ]
          },
          "metadata": {
            "tags": []
          },
          "execution_count": 17
        },
        {
          "output_type": "display_data",
          "data": {
            "image/png": "[encoded data removed]",
            "text/plain": [
              "<Figure size 576x360 with 1 Axes>"
            ]
          },
          "metadata": {
            "tags": []
          }
        }
      ]
    },
    {
      "cell_type": "code",
      "metadata": {
        "colab_type": "code",
        "outputId": "c1819fde-aed5-4e33-a1c3-9de9ad30d8f0",
        "id": "7c_DwVV1luwZ",
        "colab": {
          "base_uri": "https://localhost:8080/",
          "height": 350
        }
      },
      "source": [
        "fig, ax = plt.subplots(figsize=(8, 4))\n",
        "sns.boxplot(x=new_hmda['action_taken'],y=new_hmda['loan_purpose'], width=0.4).set_title('loan purpose to action taken')\n",
        "plt.xticks(np.arange(2),('loan approved','loan denied'))"
      ],
      "execution_count": 0,
      "outputs": [
        {
          "output_type": "execute_result",
          "data": {
            "text/plain": [
              "([<matplotlib.axis.XTick at 0x7f3b02bb2a90>,\n",
              "  <matplotlib.axis.XTick at 0x7f3b02c094a8>],\n",
              " <a list of 2 Text xticklabel objects>)"
            ]
          },
          "metadata": {
            "tags": []
          },
          "execution_count": 13
        },
        {
          "output_type": "display_data",
          "data": {
            "image/png": "[encoded data removed]",
            "text/plain": [
              "<Figure size 576x288 with 1 Axes>"
            ]
          },
          "metadata": {
            "tags": []
          }
        }
      ]
    },
    {
      "cell_type": "code",
      "metadata": {
        "colab_type": "code",
        "outputId": "1175b1ee-bc25-4971-bb19-1626ba8eabd1",
        "id": "s_eMjeNGthf3",
        "colab": {
          "base_uri": "https://localhost:8080/",
          "height": 354
        }
      },
      "source": [
        "fig, ax = plt.subplots(figsize=(10, 5))\n",
        "plt.hist([loan_originated['loan_purpose'], application_denied['loan_purpose']], bins=6, label=['loan approved', 'loan denied'])\n",
        "plt.title('loan purpose distribution')\n",
        "plt.legend(loc='upper right') \n",
        "#plt.xticks(np.arange(7), ('Home purchase', 'Home improvement', '', 'Other purpose', 'Not applicable','Not applicable','Applicant selected both male and female'))"
      ],
      "execution_count": 0,
      "outputs": [
        {
          "output_type": "execute_result",
          "data": {
            "text/plain": [
              "<matplotlib.legend.Legend at 0x7f3af83ebfd0>"
            ]
          },
          "metadata": {
            "tags": []
          },
          "execution_count": 104
        },
        {
          "output_type": "display_data",
          "data": {
            "image/png": "[encoded data removed]",
            "text/plain": [
              "<Figure size 720x360 with 1 Axes>"
            ]
          },
          "metadata": {
            "tags": []
          }
        }
      ]
    },
    {
      "cell_type": "code",
      "metadata": {
        "id": "h9qwlehZuwiz",
        "colab_type": "code",
        "outputId": "dd06d83b-b0a3-43df-d5b7-0bbb6c54ea03",
        "colab": {
          "base_uri": "https://localhost:8080/",
          "height": 516
        }
      },
      "source": [
        "fig, ax = plt.subplots(figsize=(10, 5))\n",
        "plt.hist([loan_originated['debt_to_income_ratio'].dropna(),application_denied['debt_to_income_ratio'].dropna()], bins=7, label=['loan approved', 'loan denied'])\n",
        "plt.title('debt-to-income ratio distribution')\n",
        "plt.legend(loc='upper right')\n",
        "colums_x = ['','<20%','20%-29%','30%-35%','36%-42%','43%-49%','50%-60%','>60%','']\n",
        "plt.xticks(np.arange(len(colums_x)),colums_x)"
      ],
      "execution_count": 0,
      "outputs": [
        {
          "output_type": "execute_result",
          "data": {
            "text/plain": [
              "([<matplotlib.axis.XTick at 0x7fbd23d542b0>,\n",
              "  <matplotlib.axis.XTick at 0x7fbd23d54208>,\n",
              "  <matplotlib.axis.XTick at 0x7fbd23d54a58>,\n",
              "  <matplotlib.axis.XTick at 0x7fbd23d07f60>,\n",
              "  <matplotlib.axis.XTick at 0x7fbd23d10470>,\n",
              "  <matplotlib.axis.XTick at 0x7fbd23d10940>,\n",
              "  <matplotlib.axis.XTick at 0x7fbd23d10e10>,\n",
              "  <matplotlib.axis.XTick at 0x7fbd23d16390>,\n",
              "  <matplotlib.axis.XTick at 0x7fbd23d16908>],\n",
              " <a list of 9 Text xticklabel objects>)"
            ]
          },
          "metadata": {
            "tags": []
          },
          "execution_count": 51
        },
        {
          "output_type": "display_data",
          "data": {
            "image/png": "[encoded data removed]",
            "text/plain": [
              "<Figure size 720x360 with 1 Axes>"
            ]
          },
          "metadata": {
            "tags": []
          }
        }
      ]
    },
    {
      "cell_type": "code",
      "metadata": {
        "id": "41jZv6ZLR5K7",
        "colab_type": "code",
        "outputId": "430eb06a-4f86-43f5-f99e-f5ead8f842c2",
        "colab": {
          "base_uri": "https://localhost:8080/",
          "height": 440
        }
      },
      "source": [
        "ax = sns.barplot(x=\"applicant_age\", y=\"loan_amount\", data=age2loan, estimator=mean).set_title('average loan amount by applicant age')\n",
        "plt.xticks(np.arange(7), ('<25', '25-34', '35-44', '45-54', '55-64', '65-74', '>74'))"
      ],
      "execution_count": 0,
      "outputs": [
        {
          "output_type": "execute_result",
          "data": {
            "text/plain": [
              "([<matplotlib.axis.XTick at 0x7f3af7cc8e10>,\n",
              "  <matplotlib.axis.XTick at 0x7f3af7cc8748>,\n",
              "  <matplotlib.axis.XTick at 0x7f3af7cc8470>,\n",
              "  <matplotlib.axis.XTick at 0x7f3af7c8ebe0>,\n",
              "  <matplotlib.axis.XTick at 0x7f3af7c98128>,\n",
              "  <matplotlib.axis.XTick at 0x7f3af7c98630>,\n",
              "  <matplotlib.axis.XTick at 0x7f3af7c98ba8>],\n",
              " <a list of 7 Text xticklabel objects>)"
            ]
          },
          "metadata": {
            "tags": []
          },
          "execution_count": 136
        },
        {
          "output_type": "display_data",
          "data": {
            "image/png": "[encoded data removed]",
            "text/plain": [
              "<Figure size 432x288 with 1 Axes>"
            ]
          },
          "metadata": {
            "tags": []
          }
        }
      ]
    },
    {
      "cell_type": "code",
      "metadata": {
        "id": "mGTH3nolMZmn",
        "colab_type": "code",
        "outputId": "0c523592-1c94-48fd-a12e-25c9555c2a1f",
        "colab": {
          "base_uri": "https://localhost:8080/",
          "height": 353
        }
      },
      "source": [
        "fig, ax = plt.subplots(figsize=(10, 5))\n",
        "sns.scatterplot(ax=ax, x=hmda['census_tract'], y=hmda['tract_population'])"
      ],
      "execution_count": 0,
      "outputs": [
        {
          "output_type": "execute_result",
          "data": {
            "text/plain": [
              "<matplotlib.axes._subplots.AxesSubplot at 0x7f838eb41828>"
            ]
          },
          "metadata": {
            "tags": []
          },
          "execution_count": 16
        },
        {
          "output_type": "display_data",
          "data": {
            "image/png": "[encoded data removed]",
            "text/plain": [
              "<Figure size 720x360 with 1 Axes>"
            ]
          },
          "metadata": {
            "tags": []
          }
        }
      ]
    },
    {
      "cell_type": "code",
      "metadata": {
        "id": "kim5r80-xqvE",
        "colab_type": "code",
        "outputId": "fc86d502-ec29-4854-9fc3-43f1f8eb7bb9",
        "colab": {
          "base_uri": "https://localhost:8080/",
          "height": 299
        }
      },
      "source": [
        "plt.hist(hmda['tract_population'], bins=25)\n",
        "plt.title('tract population distribution')"
      ],
      "execution_count": 0,
      "outputs": [
        {
          "output_type": "execute_result",
          "data": {
            "text/plain": [
              "Text(0.5, 1.0, 'tract population distribution')"
            ]
          },
          "metadata": {
            "tags": []
          },
          "execution_count": 138
        },
        {
          "output_type": "display_data",
          "data": {
            "image/png": "[encoded data removed]",
            "text/plain": [
              "<Figure size 432x288 with 1 Axes>"
            ]
          },
          "metadata": {
            "tags": []
          }
        }
      ]
    },
    {
      "cell_type": "code",
      "metadata": {
        "id": "fHMO5mHCybfF",
        "colab_type": "code",
        "outputId": "7c340395-6ad0-4535-ca52-a3cdc22b9dae",
        "colab": {
          "base_uri": "https://localhost:8080/",
          "height": 405
        }
      },
      "source": [
        "fig, ax = plt.subplots(figsize=(7, 5))\n",
        "sns.barplot(ax=ax, x=new_hmda['action_taken'], y=new_hmda['tract_population'], estimator=mean).set_title('average tract population for loan action')\n",
        "plt.xticks(np.arange(2),('loan approved','loan denied'))"
      ],
      "execution_count": 0,
      "outputs": [
        {
          "output_type": "execute_result",
          "data": {
            "text/plain": [
              "([<matplotlib.axis.XTick at 0x7f3af79fa3c8>,\n",
              "  <matplotlib.axis.XTick at 0x7f3af79fa860>],\n",
              " <a list of 2 Text xticklabel objects>)"
            ]
          },
          "metadata": {
            "tags": []
          },
          "execution_count": 142
        },
        {
          "output_type": "display_data",
          "data": {
            "image/png": "[encoded data removed]",
            "text/plain": [
              "<Figure size 504x360 with 1 Axes>"
            ]
          },
          "metadata": {
            "tags": []
          }
        }
      ]
    },
    {
      "cell_type": "code",
      "metadata": {
        "colab_type": "code",
        "outputId": "c953d783-a81c-4edc-b080-619a3f0606a8",
        "id": "nj-BQmGDcjSq",
        "colab": {
          "base_uri": "https://localhost:8080/",
          "height": 371
        }
      },
      "source": [
        "fig, ax = plt.subplots(figsize=(8, 4))\n",
        "plt.hist([loan_originated['lien_status'],application_denied['lien_status']],bins=2, label=['loan approved', 'loan denied'])\n",
        "plt.title('lien status to action')\n",
        "plt.legend(loc='upper right') \n",
        "plt.xticks(np.arange(4), ('','First lien', 'Subordinate lien',''))"
      ],
      "execution_count": 0,
      "outputs": [
        {
          "output_type": "execute_result",
          "data": {
            "text/plain": [
              "([<matplotlib.axis.XTick at 0x7f3af8088748>,\n",
              "  <matplotlib.axis.XTick at 0x7f3af808dcc0>,\n",
              "  <matplotlib.axis.XTick at 0x7f3af808d0f0>,\n",
              "  <matplotlib.axis.XTick at 0x7f3af8056390>],\n",
              " <a list of 4 Text xticklabel objects>)"
            ]
          },
          "metadata": {
            "tags": []
          },
          "execution_count": 113
        },
        {
          "output_type": "display_data",
          "data": {
            "image/png": "[encoded data removed]",
            "text/plain": [
              "<Figure size 576x288 with 1 Axes>"
            ]
          },
          "metadata": {
            "tags": []
          }
        }
      ]
    },
    {
      "cell_type": "code",
      "metadata": {
        "id": "05K2C0MfAiFQ",
        "colab_type": "code",
        "outputId": "105064a1-7d20-4a80-d758-39b7e2df913c",
        "colab": {
          "base_uri": "https://localhost:8080/",
          "height": 534
        }
      },
      "source": [
        "fig, ax = plt.subplots(figsize=(13, 5))\n",
        "plt.hist([loan_originated['applicant_sex'],application_denied['applicant_sex']],bins=10, normed=True, histtype='bar', stacked=True);\n",
        "plt.title('applicant sex to action')\n",
        "plt.xticks(np.arange(7), (' ', 'Male', 'Female', 'Information not provided', 'Not applicable',' ','Applicant selected both male and female'))"
      ],
      "execution_count": 0,
      "outputs": [
        {
          "output_type": "stream",
          "text": [
            "/usr/local/lib/python3.6/dist-packages/ipykernel_launcher.py:2: MatplotlibDeprecationWarning: \n",
            "The 'normed' kwarg was deprecated in Matplotlib 2.1 and will be removed in 3.1. Use 'density' instead.\n",
            "  \n"
          ],
          "name": "stderr"
        },
        {
          "output_type": "execute_result",
          "data": {
            "text/plain": [
              "([<matplotlib.axis.XTick at 0x7fe51be01e48>,\n",
              "  <matplotlib.axis.XTick at 0x7fe51be0a978>,\n",
              "  <matplotlib.axis.XTick at 0x7fe51e807128>,\n",
              "  <matplotlib.axis.XTick at 0x7fe51bd787f0>,\n",
              "  <matplotlib.axis.XTick at 0x7fe51bd78da0>,\n",
              "  <matplotlib.axis.XTick at 0x7fe51bd812b0>,\n",
              "  <matplotlib.axis.XTick at 0x7fe51bd81828>],\n",
              " <a list of 7 Text xticklabel objects>)"
            ]
          },
          "metadata": {
            "tags": []
          },
          "execution_count": 20
        },
        {
          "output_type": "display_data",
          "data": {
            "image/png": "[encoded data removed]",
            "text/plain": [
              "<Figure size 936x360 with 1 Axes>"
            ]
          },
          "metadata": {
            "tags": []
          }
        }
      ]
    }
  ]
}